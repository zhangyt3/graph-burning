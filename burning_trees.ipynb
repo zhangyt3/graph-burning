{
 "cells": [
  {
   "cell_type": "code",
   "execution_count": 1,
   "metadata": {},
   "outputs": [],
   "source": [
    "import networkx as nx"
   ]
  },
  {
   "cell_type": "code",
   "execution_count": 2,
   "metadata": {},
   "outputs": [],
   "source": [
    "def shortest_path_lengths(graph):\n",
    "    '''Returns a dictionary of dictionaries. dict[i][j] contains the distance\n",
    "    between vertices i and j.'''\n",
    "    dist_gen = nx.shortest_path_length(graph)\n",
    "\n",
    "    node_distances = {}\n",
    "    for node, distance_dict in dist_gen:\n",
    "        node_distances[node] = distance_dict\n",
    "        \n",
    "    return node_distances\n",
    "\n",
    "\n",
    "def find_farthest(node_distances, marked):\n",
    "    '''Find the unmarked vertex farthest from the root (assumes root is  vertex 0)'''\n",
    "    farthest = None\n",
    "    for node, dist in node_distances[0].items():\n",
    "        if node not in marked and (farthest is None or dist > node_distances[0][farthest]):\n",
    "            farthest = node\n",
    "    return farthest\n",
    "\n",
    "\n",
    "def get_i_ancestor(node_distances, source, i):\n",
    "    '''Return the ith ancestor of the source node.\n",
    "    In a tree, the ith ancestor of any node is the node that is at distance\n",
    "    i from it and is closer to the root.'''\n",
    "    if i == 0:\n",
    "        return source\n",
    "    \n",
    "    for node, dist in node_distances[source].items():\n",
    "        if dist == i and node_distances[0][node] < node_distances[0][source]:\n",
    "            return node\n",
    "        \n",
    "    raise RuntimeError(\"No ancestor found\")\n",
    "    \n",
    "\n",
    "def burn_tree(tree):\n",
    "    '''Implementation for tree burning algorithm (arbitrary root)\n",
    "    Input:  a tree to burn\n",
    "    Output: a burning sequence for the tree\n",
    "    '''\n",
    "    centers = []\n",
    "    marked = set()\n",
    "    \n",
    "    # Calculate distance between all pairs of nodes\n",
    "    node_distances = shortest_path_lengths(tree)\n",
    "    \n",
    "    i = 0\n",
    "    while len(marked) < tree.order():\n",
    "        # Find the unmarked vertex farthest from the root (assumes root is  vertex 0)\n",
    "        farthest = find_farthest(node_distances, marked)\n",
    "        \n",
    "        if node_distances[0][farthest] >= i:\n",
    "            # Add the ith ancestor of the farthest node to centers\n",
    "            i_ancestor = get_i_ancestor(node_distances, farthest, i)\n",
    "            centers.insert(0, i_ancestor)\n",
    "        elif 0 not in centers:\n",
    "            # If there is no ith ancestor, add the root\n",
    "            centers.insert(0, 0)\n",
    "        \n",
    "        # Add all vertices within distance i of the i_ancestor to marked\n",
    "        for node in tree:\n",
    "            if node_distances[i_ancestor][node] <= i:\n",
    "                marked.add(node)\n",
    "        \n",
    "        i += 1\n",
    "    \n",
    "    return centers"
   ]
  },
  {
   "cell_type": "code",
   "execution_count": 3,
   "metadata": {},
   "outputs": [
    {
     "name": "stdout",
     "output_type": "stream",
     "text": [
      "[0, 1, 2, 3, 4, 5, 6, 7, 8, 9, 10, 11, 12, 13, 14, 15, 16, 17, 18, 19, 20, 21, 22, 23, 24, 25, 26, 27, 28, 29, 30, 31, 32, 33, 34, 35, 36, 37, 38, 39, 40, 41, 42, 43, 44, 45, 46, 47, 48, 49, 50, 51, 52, 53, 54, 55, 56, 57, 58, 59, 60, 61, 62]\n",
      "2\n",
      "1\n"
     ]
    }
   ],
   "source": [
    "balanced_tree = nx.balanced_tree(r=2, h=5)\n",
    "print(balanced_tree.nodes)\n",
    "print(balanced_tree.degree(0))\n",
    "print(balanced_tree.degree(62))"
   ]
  },
  {
   "cell_type": "code",
   "execution_count": 4,
   "metadata": {},
   "outputs": [
    {
     "name": "stdout",
     "output_type": "stream",
     "text": [
      "[0, 1, 3, 7, 15, 31]\n"
     ]
    }
   ],
   "source": [
    "burning_sequence = burn_tree(balanced_tree)\n",
    "print(burning_sequence)"
   ]
  },
  {
   "cell_type": "code",
   "execution_count": 5,
   "metadata": {},
   "outputs": [],
   "source": [
    "nx.draw_networkx(balanced_tree, with_labels=True)"
   ]
  },
  {
   "cell_type": "code",
   "execution_count": 6,
   "metadata": {},
   "outputs": [
    {
     "data": {
      "image/png": "[encoded data removed]",
      "text/plain": [
       "<matplotlib.figure.Figure at 0x24771509be0>"
      ]
     },
     "metadata": {},
     "output_type": "display_data"
    }
   ],
   "source": [
    "# Position the nodes nicely into a tree shape\n",
    "pos = nx.nx_pydot.pydot_layout(balanced_tree, prog='dot')\n",
    "nx.draw(balanced_tree, pos=pos, with_labels=True)"
   ]
  },
  {
   "cell_type": "code",
   "execution_count": 20,
   "metadata": {},
   "outputs": [
    {
     "name": "stdout",
     "output_type": "stream",
     "text": [
      "b(G) <= 2 | cross.mat | [5, 3]\n"
     ]
    },
    {
     "ename": "TypeError",
     "evalue": "must be str, not list",
     "output_type": "error",
     "traceback": [
      "\u001b[1;31m---------------------------------------------------------------------------\u001b[0m",
      "\u001b[1;31mTypeError\u001b[0m                                 Traceback (most recent call last)",
      "\u001b[1;32m<ipython-input-20-77b190cbd4a5>\u001b[0m in \u001b[0;36m<module>\u001b[1;34m()\u001b[0m\n\u001b[0;32m     20\u001b[0m             \u001b[0mprint\u001b[0m\u001b[1;33m(\u001b[0m\u001b[1;34m'b(G) <='\u001b[0m\u001b[1;33m,\u001b[0m \u001b[0mlen\u001b[0m\u001b[1;33m(\u001b[0m\u001b[0mburning_sequence\u001b[0m\u001b[1;33m)\u001b[0m\u001b[1;33m,\u001b[0m \u001b[1;34m'|'\u001b[0m\u001b[1;33m,\u001b[0m \u001b[0mfilename\u001b[0m\u001b[1;33m,\u001b[0m \u001b[1;34m'|'\u001b[0m\u001b[1;33m,\u001b[0m \u001b[0mburning_sequence\u001b[0m\u001b[1;33m)\u001b[0m\u001b[1;33m\u001b[0m\u001b[0m\n\u001b[0;32m     21\u001b[0m \u001b[1;33m\u001b[0m\u001b[0m\n\u001b[1;32m---> 22\u001b[1;33m             \u001b[0mprint\u001b[0m\u001b[1;33m(\u001b[0m\u001b[1;34m'b(G) <= {0:3d} | {1:20s} | '\u001b[0m\u001b[1;33m.\u001b[0m\u001b[0mformat\u001b[0m\u001b[1;33m(\u001b[0m\u001b[0mlen\u001b[0m\u001b[1;33m(\u001b[0m\u001b[0mburning_sequence\u001b[0m\u001b[1;33m)\u001b[0m\u001b[1;33m,\u001b[0m \u001b[0mfilename\u001b[0m\u001b[1;33m)\u001b[0m \u001b[1;33m+\u001b[0m \u001b[0mburning_sequence\u001b[0m\u001b[1;33m)\u001b[0m\u001b[1;33m\u001b[0m\u001b[0m\n\u001b[0m",
      "\u001b[1;31mTypeError\u001b[0m: must be str, not list"
     ]
    }
   ],
   "source": [
    "from graph_utils import create_adj_mat\n",
    "import os\n",
    "\n",
    "# Try burning all the trees in the ./trees directory\n",
    "DIR_NAME = \"./trees\"\n",
    "directory = os.fsencode(DIR_NAME)\n",
    "\n",
    "for file in os.listdir(directory):\n",
    "    filename = os.fsdecode(file)\n",
    "    if filename.endswith(\".mat\"):\n",
    "        #print(filename)\n",
    "        filepath = os.path.join(DIR_NAME, filename)\n",
    "        with open(filepath, 'r') as file:\n",
    "            adj_mat = create_adj_mat(filepath)\n",
    "            tree = nx.convert_matrix.from_numpy_matrix(adj_mat)\n",
    "            #pos = nx.nx_pydot.pydot_layout(tree, prog='dot')\n",
    "            #nx.draw(tree, pos=pos, with_labels=True)\n",
    "            \n",
    "            burning_sequence = burn_tree(tree)\n",
    "            print('b(G) <=', len(burning_sequence), '|', filename, '|', burning_sequence)\n",
    "    \n",
    "            print('b(G) <= {0:3d} | {1:20s} | '.format(len(burning_sequence), filename) + burning_sequence)"
   ]
  },
  {
   "cell_type": "code",
   "execution_count": null,
   "metadata": {},
   "outputs": [],
   "source": [
    "\n",
    "\n",
    "\n"
   ]
  }
 ],
 "metadata": {
  "kernelspec": {
   "display_name": "Python 3",
   "language": "python",
   "name": "python3"
  },
  "language_info": {
   "codemirror_mode": {
    "name": "ipython",
    "version": 3
   },
   "file_extension": ".py",
   "mimetype": "text/x-python",
   "name": "python",
   "nbconvert_exporter": "python",
   "pygments_lexer": "ipython3",
   "version": "3.6.4"
  }
 },
 "nbformat": 4,
 "nbformat_minor": 2
}
