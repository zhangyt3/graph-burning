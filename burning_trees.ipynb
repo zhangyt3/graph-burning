{
 "cells": [
  {
   "cell_type": "code",
   "execution_count": 1,
   "metadata": {},
   "outputs": [],
   "source": [
    "import networkx as nx\n",
    "from burn_tree import *"
   ]
  },
  {
   "cell_type": "code",
   "execution_count": 2,
   "metadata": {},
   "outputs": [
    {
     "name": "stdout",
     "output_type": "stream",
     "text": [
      "[0, 1, 2, 3, 4, 5, 6, 7, 8, 9, 10, 11, 12, 13, 14, 15, 16, 17, 18, 19, 20, 21, 22, 23, 24, 25, 26, 27, 28, 29, 30, 31, 32, 33, 34, 35, 36, 37, 38, 39, 40, 41, 42, 43, 44, 45, 46, 47, 48, 49, 50, 51, 52, 53, 54, 55, 56, 57, 58, 59, 60, 61, 62]\n",
      "2\n",
      "1\n"
     ]
    }
   ],
   "source": [
    "balanced_tree = nx.balanced_tree(r=2, h=5)\n",
    "print(balanced_tree.nodes)\n",
    "print(balanced_tree.degree(0))\n",
    "print(balanced_tree.degree(62))"
   ]
  },
  {
   "cell_type": "code",
   "execution_count": 3,
   "metadata": {},
   "outputs": [
    {
     "name": "stdout",
     "output_type": "stream",
     "text": [
      "[0, 1, 3, 7, 15, 31]\n"
     ]
    }
   ],
   "source": [
    "burning_sequence = burn_tree(balanced_tree)\n",
    "print(burning_sequence)"
   ]
  },
  {
   "cell_type": "code",
   "execution_count": 4,
   "metadata": {},
   "outputs": [],
   "source": [
    "# Position the nodes nicely into a tree shape\n",
    "pos = nx.nx_pydot.pydot_layout(balanced_tree, prog='dot')\n",
    "nx.draw(balanced_tree, pos=pos, with_labels=True)"
   ]
  },
  {
   "cell_type": "code",
   "execution_count": 5,
   "metadata": {},
   "outputs": [
    {
     "name": "stdout",
     "output_type": "stream",
     "text": [
      "b(G)<= 2 | n= 6 | ceil(sqrt(n))= 3 | cross.mat       | [5, 3]              \n",
      "b(G)<= 3 | n= 8 | ceil(sqrt(n))= 3 | ethane.mat      | [0, 7, 1]           \n",
      "b(G)<= 2 | n= 5 | ceil(sqrt(n))= 3 | fork.mat        | [4, 2]              \n",
      "b(G)<= 5 | n=32 | ceil(sqrt(n))= 6 | graph_1028.mat  | [0, 29, 28, 22, 19] \n",
      "b(G)<= 4 | n=13 | ceil(sqrt(n))= 4 | graph_156.mat   | [0, 6, 10, 2]       \n",
      "b(G)<= 3 | n=11 | ceil(sqrt(n))= 4 | graph_164.mat   | [5, 8, 3]           \n",
      "b(G)<= 3 | n=11 | ceil(sqrt(n))= 4 | graph_25135.mat | [9, 8, 3]           \n",
      "b(G)<= 7 | n=46 | ceil(sqrt(n))= 7 | graph_26981.mat | [41, 17, 28, 22, 13, 43, 1]\n",
      "b(G)<= 3 | n=12 | ceil(sqrt(n))= 4 | graph_27412.mat | [10, 8, 5]          \n",
      "b(G)<= 4 | n=16 | ceil(sqrt(n))= 4 | graph_28507.mat | [0, 14, 11, 7]      \n",
      "b(G)<= 4 | n=16 | ceil(sqrt(n))= 4 | graph_30698.mat | [13, 14, 12, 2]     \n",
      "b(G)<= 4 | n=12 | ceil(sqrt(n))= 4 | graph_352.mat   | [0, 7, 10, 2]       \n",
      "b(G)<= 4 | n=14 | ceil(sqrt(n))= 4 | graph_356.mat   | [0, 7, 11, 3]       \n",
      "b(G)<= 3 | n=12 | ceil(sqrt(n))= 4 | graph_36.mat    | [0, 11, 1]          \n",
      "b(G)<= 3 | n=13 | ceil(sqrt(n))= 4 | graph_38.mat    | [0, 11, 6]          \n",
      "b(G)<= 4 | n=14 | ceil(sqrt(n))= 4 | graph_430.mat   | [13, 9, 11, 1]      \n",
      "b(G)<= 4 | n=12 | ceil(sqrt(n))= 4 | graph_534.mat   | [0, 8, 11, 4]       \n",
      "b(G)<= 4 | n=13 | ceil(sqrt(n))= 4 | graph_60.mat    | [0, 10, 12, 4]      \n",
      "b(G)<= 3 | n=12 | ceil(sqrt(n))= 4 | graph_604.mat   | [8, 9, 6]           \n",
      "b(G)<= 4 | n=15 | ceil(sqrt(n))= 4 | graph_626.mat   | [11, 10, 6, 4]      \n",
      "b(G)<= 2 | n=13 | ceil(sqrt(n))= 4 | graph_88.mat    | [12, 1]             \n",
      "b(G)<= 3 | n= 6 | ceil(sqrt(n))= 3 | h.mat           | [0, 5, 1]           \n",
      "b(G)<= 4 | n=20 | ceil(sqrt(n))= 5 | hexane.mat      | [17, 16, 14, 11]    \n",
      "b(G)<= 3 | n= 7 | ceil(sqrt(n))= 3 | path.mat        | [0, 4, 1]           \n",
      "b(G)<= 2 | n=10 | ceil(sqrt(n))= 4 | star.mat        | [9, 1]              \n"
     ]
    }
   ],
   "source": [
    "from graph_utils import create_adj_mat\n",
    "import os\n",
    "import math\n",
    "\n",
    "# Try burning all the trees in the ./trees directory\n",
    "DIR_NAME = \"./trees\"\n",
    "directory = os.fsencode(DIR_NAME)\n",
    "\n",
    "for file in os.listdir(directory):\n",
    "    filename = os.fsdecode(file)\n",
    "    if filename.endswith(\".mat\"):\n",
    "        #print(filename)\n",
    "        filepath = os.path.join(DIR_NAME, filename)\n",
    "        with open(filepath, 'r') as file:\n",
    "            adj_mat = create_adj_mat(filepath)\n",
    "            tree = nx.convert_matrix.from_numpy_matrix(adj_mat)\n",
    "            #pos = nx.nx_pydot.pydot_layout(tree, prog='dot')\n",
    "            #nx.draw(tree, pos=pos, with_labels=True)\n",
    "            \n",
    "            burning_sequence = burn_tree(tree)\n",
    "            print('b(G)<={0:2d} | n={1:2d} | ceil(sqrt(n))={2:2d} | {3:15} | {4:20}'.format(len(burning_sequence),\n",
    "                                                                     tree.order(),\n",
    "                                                                     math.ceil(math.sqrt(tree.order())),\n",
    "                                                                     filename,\n",
    "                                                                     str(burning_sequence)))"
   ]
  },
  {
   "cell_type": "code",
   "execution_count": 6,
   "metadata": {},
   "outputs": [
    {
     "data": {
      "image/png": "[encoded data removed]",
      "text/plain": [
       "<matplotlib.figure.Figure at 0x1a6bc79a390>"
      ]
     },
     "metadata": {},
     "output_type": "display_data"
    }
   ],
   "source": [
    "def show_graph(filepath):\n",
    "    adj_mat = create_adj_mat(filepath)\n",
    "    tree = nx.convert_matrix.from_numpy_matrix(adj_mat)\n",
    "    pos = nx.nx_pydot.pydot_layout(tree, prog='dot')\n",
    "    nx.draw(tree, pos=pos, with_labels=True)\n",
    "\n",
    "filepath = './trees/graph_26981.mat'\n",
    "show_graph(filepath)"
   ]
  },
  {
   "cell_type": "code",
   "execution_count": 7,
   "metadata": {},
   "outputs": [
    {
     "data": {
      "image/png": "[encoded data removed]",
      "text/plain": [
       "<matplotlib.figure.Figure at 0x1a6bc6adcc0>"
      ]
     },
     "metadata": {},
     "output_type": "display_data"
    }
   ],
   "source": [
    "show_graph('./trees/graph_30698.mat')"
   ]
  },
  {
   "cell_type": "code",
   "execution_count": 8,
   "metadata": {},
   "outputs": [
    {
     "name": "stdout",
     "output_type": "stream",
     "text": [
      "b(G)<= 3 | n=  6 | ceil(sqrt(n))=  3 | [0, 4, 2]           \n",
      "b(G)<= 9 | n=115 | ceil(sqrt(n))= 11 | [0, 28, 81, 108, 70, 67, 60, 42, 14]\n",
      "b(G)<= 5 | n= 33 | ceil(sqrt(n))=  6 | [27, 18, 10, 7, 5]  \n",
      "b(G)<= 5 | n= 22 | ceil(sqrt(n))=  5 | [0, 5, 16, 19, 15]  \n",
      "b(G)<= 5 | n= 23 | ceil(sqrt(n))=  5 | [0, 17, 3, 14, 13]  \n",
      "b(G)<= 7 | n= 86 | ceil(sqrt(n))= 10 | [3, 35, 7, 79, 44, 82, 45]\n",
      "b(G)<= 6 | n= 41 | ceil(sqrt(n))=  7 | [0, 26, 27, 35, 9, 12]\n",
      "b(G)<= 9 | n=115 | ceil(sqrt(n))= 11 | [76, 93, 97, 57, 39, 48, 26, 68, 73]\n",
      "b(G)<=10 | n=107 | ceil(sqrt(n))= 11 | [87, 61, 76, 60, 94, 97, 75, 72, 62, 31]\n",
      "b(G)<= 3 | n=  9 | ceil(sqrt(n))=  3 | [0, 2, 4]           \n",
      "b(G)<= 9 | n=120 | ceil(sqrt(n))= 11 | [90, 6, 57, 20, 91, 85, 101, 111, 56]\n",
      "b(G)<= 8 | n= 94 | ceil(sqrt(n))= 10 | [85, 40, 50, 69, 24, 21, 66, 52]\n",
      "b(G)<= 6 | n= 44 | ceil(sqrt(n))=  7 | [12, 27, 13, 7, 10, 30]\n",
      "b(G)<= 8 | n= 91 | ceil(sqrt(n))= 10 | [65, 7, 66, 72, 22, 82, 51, 71]\n",
      "b(G)<= 7 | n= 57 | ceil(sqrt(n))=  8 | [0, 2, 48, 11, 42, 17, 47]\n",
      "b(G)<= 8 | n= 89 | ceil(sqrt(n))= 10 | [0, 72, 83, 69, 63, 26, 59, 88]\n",
      "b(G)<= 9 | n= 99 | ceil(sqrt(n))= 10 | [0, 55, 96, 25, 9, 42, 86, 97, 3]\n",
      "b(G)<= 6 | n= 48 | ceil(sqrt(n))=  7 | [7, 5, 37, 17, 23, 44]\n",
      "b(G)<= 6 | n= 43 | ceil(sqrt(n))=  7 | [40, 2, 12, 39, 6, 25]\n",
      "b(G)<= 4 | n= 23 | ceil(sqrt(n))=  5 | [2, 11, 13, 20]     \n",
      "b(G)<= 4 | n= 18 | ceil(sqrt(n))=  5 | [10, 14, 15, 2]     \n",
      "b(G)<= 7 | n= 47 | ceil(sqrt(n))=  7 | [19, 9, 17, 26, 10, 30, 40]\n",
      "b(G)<= 8 | n=101 | ceil(sqrt(n))= 11 | [19, 37, 1, 44, 77, 2, 72, 57]\n",
      "b(G)<= 7 | n= 72 | ceil(sqrt(n))=  9 | [19, 16, 6, 57, 68, 65, 12]\n",
      "b(G)<= 7 | n= 73 | ceil(sqrt(n))=  9 | [68, 66, 18, 26, 20, 2, 11]\n",
      "b(G)<= 6 | n= 38 | ceil(sqrt(n))=  7 | [0, 14, 19, 18, 17, 13]\n",
      "b(G)<= 9 | n=121 | ceil(sqrt(n))= 11 | [0, 49, 81, 7, 119, 75, 68, 38, 65]\n",
      "b(G)<= 5 | n= 22 | ceil(sqrt(n))=  5 | [0, 7, 4, 15, 8]    \n",
      "b(G)<= 8 | n=116 | ceil(sqrt(n))= 11 | [63, 98, 76, 77, 25, 16, 8, 20]\n",
      "b(G)<= 4 | n= 20 | ceil(sqrt(n))=  5 | [5, 12, 17, 14]     \n",
      "b(G)<= 8 | n=100 | ceil(sqrt(n))= 10 | [0, 35, 5, 13, 59, 8, 7, 41]\n",
      "b(G)<= 6 | n= 37 | ceil(sqrt(n))=  7 | [26, 28, 22, 2, 10, 3]\n",
      "b(G)<= 8 | n= 77 | ceil(sqrt(n))=  9 | [32, 56, 25, 30, 44, 4, 45, 31]\n",
      "b(G)<= 7 | n= 56 | ceil(sqrt(n))=  8 | [44, 24, 20, 45, 41, 6, 13]\n",
      "b(G)<= 8 | n= 70 | ceil(sqrt(n))=  9 | [0, 3, 49, 46, 58, 32, 10, 28]\n",
      "b(G)<= 8 | n=102 | ceil(sqrt(n))= 11 | [101, 91, 20, 99, 37, 75, 24, 27]\n",
      "b(G)<= 4 | n= 19 | ceil(sqrt(n))=  5 | [14, 2, 3, 1]       \n",
      "b(G)<= 7 | n= 75 | ceil(sqrt(n))=  9 | [59, 1, 70, 48, 11, 16, 22]\n",
      "b(G)<= 8 | n=102 | ceil(sqrt(n))= 11 | [5, 26, 92, 38, 56, 21, 74, 98]\n",
      "b(G)<= 5 | n= 27 | ceil(sqrt(n))=  6 | [0, 7, 6, 22, 10]   \n",
      "b(G)<= 6 | n= 34 | ceil(sqrt(n))=  6 | [0, 22, 12, 6, 11, 18]\n",
      "b(G)<= 2 | n=  2 | ceil(sqrt(n))=  2 | [0, 1]              \n",
      "b(G)<= 8 | n= 87 | ceil(sqrt(n))= 10 | [61, 1, 8, 46, 37, 22, 80, 34]\n",
      "b(G)<= 7 | n= 74 | ceil(sqrt(n))=  9 | [0, 12, 23, 48, 18, 46, 61]\n",
      "b(G)<= 7 | n= 48 | ceil(sqrt(n))=  7 | [0, 34, 40, 8, 15, 7, 45]\n",
      "b(G)<= 5 | n= 22 | ceil(sqrt(n))=  5 | [0, 21, 7, 20, 18]  \n",
      "b(G)<= 9 | n=115 | ceil(sqrt(n))= 11 | [0, 29, 46, 71, 100, 40, 88, 54, 75]\n",
      "b(G)<= 7 | n= 90 | ceil(sqrt(n))= 10 | [79, 45, 85, 59, 50, 76, 17]\n",
      "b(G)<= 5 | n= 33 | ceil(sqrt(n))=  6 | [12, 13, 5, 14, 1]  \n",
      "b(G)<= 4 | n= 19 | ceil(sqrt(n))=  5 | [17, 11, 14, 2]     \n",
      "b(G)<=10 | n=113 | ceil(sqrt(n))= 11 | [0, 20, 81, 82, 31, 66, 9, 48, 47, 105]\n",
      "b(G)<= 3 | n= 10 | ceil(sqrt(n))=  4 | [3, 9, 5]           \n",
      "b(G)<= 8 | n=109 | ceil(sqrt(n))= 11 | [0, 15, 42, 19, 44, 48, 59, 31]\n",
      "b(G)<= 5 | n= 26 | ceil(sqrt(n))=  6 | [0, 25, 19, 16, 13] \n",
      "b(G)<= 8 | n= 92 | ceil(sqrt(n))= 10 | [75, 57, 22, 71, 74, 36, 40, 20]\n",
      "b(G)<= 6 | n= 43 | ceil(sqrt(n))=  7 | [12, 29, 1, 6, 2, 17]\n",
      "b(G)<= 9 | n= 98 | ceil(sqrt(n))= 10 | [0, 8, 23, 74, 68, 66, 96, 63, 5]\n",
      "b(G)<= 5 | n= 27 | ceil(sqrt(n))=  6 | [0, 3, 9, 15, 25]   \n",
      "b(G)<= 7 | n= 71 | ceil(sqrt(n))=  9 | [38, 25, 40, 65, 31, 55, 5]\n",
      "b(G)<= 5 | n= 27 | ceil(sqrt(n))=  6 | [0, 19, 23, 3, 18]  \n",
      "b(G)<= 9 | n=121 | ceil(sqrt(n))= 11 | [97, 54, 115, 13, 95, 108, 27, 60, 57]\n",
      "b(G)<= 4 | n= 15 | ceil(sqrt(n))=  4 | [0, 1, 8, 7]        \n",
      "b(G)<= 8 | n= 74 | ceil(sqrt(n))=  9 | [0, 25, 38, 41, 61, 33, 44, 3]\n",
      "b(G)<= 9 | n=124 | ceil(sqrt(n))= 12 | [109, 14, 6, 21, 100, 31, 64, 53, 90]\n",
      "b(G)<= 8 | n= 88 | ceil(sqrt(n))= 10 | [0, 3, 52, 72, 38, 25, 42, 48]\n",
      "b(G)<= 9 | n=118 | ceil(sqrt(n))= 11 | [60, 39, 95, 103, 29, 112, 26, 82, 75]\n",
      "b(G)<= 9 | n= 99 | ceil(sqrt(n))= 10 | [24, 48, 89, 19, 33, 69, 47, 27, 52]\n",
      "b(G)<= 7 | n= 76 | ceil(sqrt(n))=  9 | [37, 48, 12, 72, 4, 62, 16]\n",
      "b(G)<=10 | n=123 | ceil(sqrt(n))= 12 | [49, 36, 104, 20, 13, 44, 15, 103, 107, 68]\n",
      "b(G)<= 8 | n=101 | ceil(sqrt(n))= 11 | [41, 5, 22, 10, 25, 78, 50, 42]\n",
      "b(G)<= 5 | n= 33 | ceil(sqrt(n))=  6 | [18, 5, 6, 7, 1]    \n",
      "b(G)<= 5 | n= 24 | ceil(sqrt(n))=  5 | [0, 20, 1, 7, 4]    \n",
      "b(G)<= 3 | n= 10 | ceil(sqrt(n))=  4 | [5, 4, 7]           \n",
      "b(G)<= 7 | n= 71 | ceil(sqrt(n))=  9 | [0, 14, 4, 22, 50, 42, 40]\n",
      "b(G)<= 5 | n= 18 | ceil(sqrt(n))=  5 | [0, 2, 17, 5, 13]   \n",
      "b(G)<= 5 | n= 21 | ceil(sqrt(n))=  5 | [0, 6, 16, 17, 13]  \n",
      "b(G)<= 7 | n= 64 | ceil(sqrt(n))=  8 | [33, 5, 7, 15, 18, 51, 42]\n",
      "b(G)<= 5 | n= 24 | ceil(sqrt(n))=  5 | [6, 13, 15, 1, 16]  \n",
      "b(G)<= 4 | n= 20 | ceil(sqrt(n))=  5 | [8, 14, 18, 1]      \n",
      "b(G)<= 4 | n= 13 | ceil(sqrt(n))=  4 | [0, 1, 7, 8]        \n",
      "b(G)<= 7 | n= 57 | ceil(sqrt(n))=  8 | [0, 33, 15, 14, 51, 45, 39]\n",
      "b(G)<= 6 | n= 29 | ceil(sqrt(n))=  6 | [0, 13, 4, 5, 28, 17]\n",
      "b(G)<= 9 | n=105 | ceil(sqrt(n))= 11 | [0, 8, 80, 32, 96, 19, 30, 100, 15]\n",
      "b(G)<= 8 | n= 77 | ceil(sqrt(n))=  9 | [0, 33, 28, 35, 18, 38, 50, 19]\n",
      "b(G)<=10 | n=121 | ceil(sqrt(n))= 11 | [60, 95, 45, 81, 105, 53, 17, 35, 74, 97]\n",
      "b(G)<= 7 | n= 64 | ceil(sqrt(n))=  8 | [15, 28, 59, 1, 6, 41, 52]\n",
      "b(G)<= 9 | n=104 | ceil(sqrt(n))= 11 | [0, 61, 45, 7, 3, 10, 68, 49, 48]\n",
      "b(G)<= 8 | n= 69 | ceil(sqrt(n))=  9 | [0, 24, 39, 28, 13, 22, 54, 5]\n",
      "b(G)<= 3 | n=  5 | ceil(sqrt(n))=  3 | [0, 4, 2]           \n",
      "b(G)<= 6 | n= 38 | ceil(sqrt(n))=  7 | [0, 16, 20, 36, 34, 13]\n",
      "b(G)<= 9 | n=107 | ceil(sqrt(n))= 11 | [58, 79, 87, 95, 43, 77, 10, 55, 69]\n",
      "b(G)<= 9 | n= 94 | ceil(sqrt(n))= 10 | [0, 62, 55, 65, 58, 60, 26, 72, 6]\n",
      "b(G)<= 9 | n=107 | ceil(sqrt(n))= 11 | [5, 55, 82, 104, 39, 48, 51, 95, 91]\n",
      "b(G)<= 6 | n= 52 | ceil(sqrt(n))=  8 | [0, 25, 22, 16, 29, 9]\n",
      "b(G)<= 7 | n= 51 | ceil(sqrt(n))=  8 | [0, 10, 15, 11, 31, 33, 13]\n",
      "b(G)<= 7 | n= 65 | ceil(sqrt(n))=  9 | [53, 39, 23, 36, 35, 22, 64]\n",
      "b(G)<= 7 | n= 86 | ceil(sqrt(n))= 10 | [9, 35, 26, 12, 52, 43, 48]\n",
      "b(G)<= 7 | n= 93 | ceil(sqrt(n))= 10 | [49, 80, 20, 91, 75, 4, 18]\n",
      "b(G)<= 5 | n= 29 | ceil(sqrt(n))=  6 | [0, 5, 23, 3, 19]   \n",
      "b(G)<= 3 | n=  7 | ceil(sqrt(n))=  3 | [0, 4, 3]           \n"
     ]
    }
   ],
   "source": [
    "from random import randint\n",
    "\n",
    "# Generate random trees and burn them...\n",
    "for i in range(100):\n",
    "    n = randint(1, 125)\n",
    "    rand_tree = nx.generators.trees.random_tree(n, seed=randint(0, 213218321321))\n",
    "    burning_sequence = burn_tree(rand_tree)\n",
    "    print('b(G)<={0:2d} | n={1:3d} | ceil(sqrt(n))={2:3d} | {3:20}'.format(len(burning_sequence),\n",
    "                                                                     rand_tree.order(),\n",
    "                                                                     math.ceil(math.sqrt(rand_tree.order())),\n",
    "                                                                     str(burning_sequence)))\n",
    "    if len(burning_sequence) > math.ceil(math.sqrt(rand_tree.order())):\n",
    "        print(\"Burning sequence > sqrt(n)\")\n",
    "        pos = nx.nx_pydot.pydot_layout(rand_tree, prog='dot')\n",
    "        nx.draw(rand_tree, pos=pos, with_labels=True)\n",
    "    "
   ]
  },
  {
   "cell_type": "code",
   "execution_count": 9,
   "metadata": {},
   "outputs": [
    {
     "name": "stdout",
     "output_type": "stream",
     "text": [
      "b(G)<= 3 | n= 6 | ceil(sqrt(n))= 3 | cross.mat       | [3, 5, 0]           \n",
      "b(G)<= 3 | n= 8 | ceil(sqrt(n))= 3 | ethane.mat      | [0, 7, 1]           \n",
      "b(G)<= 3 | n= 5 | ceil(sqrt(n))= 3 | fork.mat        | [2, 4, 0]           \n",
      "b(G)<= 5 | n=32 | ceil(sqrt(n))= 6 | graph_1028.mat  | [0, 28, 29, 23, 16] \n",
      "b(G)<= 4 | n=13 | ceil(sqrt(n))= 4 | graph_156.mat   | [5, 9, 12, 2]       \n",
      "b(G)<= 4 | n=11 | ceil(sqrt(n))= 4 | graph_164.mat   | [0, 7, 9, 1]        \n",
      "b(G)<= 4 | n=11 | ceil(sqrt(n))= 4 | graph_25135.mat | [4, 9, 5, 3]        \n",
      "b(G)<= 7 | n=46 | ceil(sqrt(n))= 7 | graph_26981.mat | [24, 12, 28, 22, 13, 43, 1]\n",
      "b(G)<= 3 | n=12 | ceil(sqrt(n))= 4 | graph_27412.mat | [10, 8, 5]          \n",
      "b(G)<= 4 | n=16 | ceil(sqrt(n))= 4 | graph_28507.mat | [12, 15, 10, 6]     \n",
      "b(G)<= 4 | n=16 | ceil(sqrt(n))= 4 | graph_30698.mat | [13, 5, 12, 2]      \n",
      "b(G)<= 4 | n=12 | ceil(sqrt(n))= 4 | graph_352.mat   | [4, 6, 9, 0]        \n",
      "b(G)<= 4 | n=14 | ceil(sqrt(n))= 4 | graph_356.mat   | [6, 10, 13, 3]      \n",
      "b(G)<= 3 | n=12 | ceil(sqrt(n))= 4 | graph_36.mat    | [0, 11, 1]          \n",
      "b(G)<= 3 | n=13 | ceil(sqrt(n))= 4 | graph_38.mat    | [6, 12, 0]          \n",
      "b(G)<= 4 | n=14 | ceil(sqrt(n))= 4 | graph_430.mat   | [12, 4, 11, 1]      \n",
      "b(G)<= 4 | n=12 | ceil(sqrt(n))= 4 | graph_534.mat   | [2, 10, 11, 4]      \n",
      "b(G)<= 4 | n=13 | ceil(sqrt(n))= 4 | graph_60.mat    | [3, 8, 12, 4]       \n",
      "b(G)<= 3 | n=12 | ceil(sqrt(n))= 4 | graph_604.mat   | [8, 9, 6]           \n",
      "b(G)<= 4 | n=15 | ceil(sqrt(n))= 4 | graph_626.mat   | [6, 11, 9, 4]       \n",
      "b(G)<= 2 | n=13 | ceil(sqrt(n))= 4 | graph_88.mat    | [12, 0]             \n",
      "b(G)<= 3 | n= 6 | ceil(sqrt(n))= 3 | h.mat           | [0, 5, 1]           \n",
      "b(G)<= 4 | n=20 | ceil(sqrt(n))= 5 | hexane.mat      | [14, 17, 15, 8]     \n",
      "b(G)<= 3 | n= 7 | ceil(sqrt(n))= 3 | path.mat        | [3, 6, 0]           \n",
      "b(G)<= 2 | n=10 | ceil(sqrt(n))= 4 | star.mat        | [9, 0]              \n"
     ]
    }
   ],
   "source": [
    "# Try burning all the trees in the ./trees directory\n",
    "DIR_NAME = \"./trees\"\n",
    "directory = os.fsencode(DIR_NAME)\n",
    "\n",
    "for file in os.listdir(directory):\n",
    "    filename = os.fsdecode(file)\n",
    "    if filename.endswith(\".mat\"):\n",
    "        #print(filename)\n",
    "        filepath = os.path.join(DIR_NAME, filename)\n",
    "        with open(filepath, 'r') as file:\n",
    "            adj_mat = create_adj_mat(filepath)\n",
    "            tree = nx.convert_matrix.from_numpy_matrix(adj_mat)\n",
    "            #pos = nx.nx_pydot.pydot_layout(tree, prog='dot')\n",
    "            #nx.draw(tree, pos=pos, with_labels=True)\n",
    "            \n",
    "            burning_sequence = burn_tree_using_centers(tree, update_root=True)\n",
    "            print('b(G)<={0:2d} | n={1:2d} | ceil(sqrt(n))={2:2d} | {3:15} | {4:20}'.format(len(burning_sequence),\n",
    "                                                                     tree.order(),\n",
    "                                                                     math.ceil(math.sqrt(tree.order())),\n",
    "                                                                     filename,\n",
    "                                                                     str(burning_sequence)))"
   ]
  },
  {
   "cell_type": "code",
   "execution_count": 10,
   "metadata": {},
   "outputs": [
    {
     "data": {
      "image/png": "[encoded data removed]",
      "text/plain": [
       "<matplotlib.figure.Figure at 0x1a6bbb36630>"
      ]
     },
     "metadata": {},
     "output_type": "display_data"
    }
   ],
   "source": [
    "show_graph('./trees/cross.mat')"
   ]
  },
  {
   "cell_type": "markdown",
   "metadata": {},
   "source": [
    "So far, seems like burning without updating the root with a central vertex is best. Burning example trees from the `/trees` directory, both give sequences that are always at most sqrt(n), but updating the root makes the sequence a bit longer in certain instances. From trying the original (no update) algorithm on random trees, some trees were found that took > sqrt(n) rounds to burn. Maybe updating with centers guarantees at most sqrt(n) rounds?"
   ]
  },
  {
   "cell_type": "code",
   "execution_count": 11,
   "metadata": {},
   "outputs": [
    {
     "name": "stdout",
     "output_type": "stream",
     "text": [
      "Iteration: 0\n",
      "Updating root produces sequences taking at most sqrt(n) rounds while a fixed root does not.\n",
      "Burning Sequence (no update): [0, 8, 7, 12, 6]\n",
      "Burning Sequence (update root): [11, 12, 1, 2]\n"
     ]
    },
    {
     "data": {
      "image/png": "[encoded data removed]",
      "text/plain": [
       "<matplotlib.figure.Figure at 0x1a6bc633550>"
      ]
     },
     "metadata": {},
     "output_type": "display_data"
    }
   ],
   "source": [
    "# Try to find a tree where updating the root produces a sequence that takes at \n",
    "# most sqrt(n) rounds, but not updating takes longer\n",
    "i = 0\n",
    "while True:   \n",
    "    if i % 1000 == 0:\n",
    "        print(\"Iteration:\", i)\n",
    "    n = randint(1, 125)\n",
    "    rand_tree = nx.generators.trees.random_tree(n, seed=randint(0, 213218321321))\n",
    "    burning_sequence = burn_tree(rand_tree)\n",
    "    burning_sequence_update = burn_tree_using_centers(rand_tree, update_root=True)\n",
    "    \n",
    "    upper_bound = math.ceil(math.sqrt(rand_tree.order()))\n",
    "    if len(burning_sequence_update) > upper_bound:\n",
    "        print(\"Burning with updated root still can take > sqrt(n) rounds\")\n",
    "        print(\"Burning Sequence (no update):\", burning_sequence)\n",
    "        print(\"Burning Sequence (update root):\", burning_sequence_update)\n",
    "        pos = nx.nx_pydot.pydot_layout(rand_tree, prog='dot')\n",
    "        nx.draw(rand_tree, pos=pos, with_labels=True)\n",
    "        break\n",
    "    elif len(burning_sequence) > upper_bound and len(burning_sequence_update) <= upper_bound:\n",
    "        print(\"Updating root produces sequences taking at most sqrt(n) rounds while a fixed root does not.\")\n",
    "        print(\"Burning Sequence (no update):\", burning_sequence)\n",
    "        print(\"Burning Sequence (update root):\", burning_sequence_update)\n",
    "        pos = nx.nx_pydot.pydot_layout(rand_tree, prog='dot')\n",
    "        nx.draw(rand_tree, pos=pos, with_labels=True)\n",
    "        break\n",
    "        \n",
    "    i += 1\n",
    "        "
   ]
  },
  {
   "cell_type": "code",
   "execution_count": 12,
   "metadata": {},
   "outputs": [
    {
     "name": "stdout",
     "output_type": "stream",
     "text": [
      "Iteration: 0\n",
      "Burning with updated root still can take > sqrt(n) rounds\n",
      "Burning Sequence (no update): [6, 3, 5]\n",
      "Burning Sequence (update root): [1, 8, 4, 0]\n"
     ]
    },
    {
     "data": {
      "image/png": "[encoded data removed]",
      "text/plain": [
       "<matplotlib.figure.Figure at 0x1a6bc842940>"
      ]
     },
     "metadata": {},
     "output_type": "display_data"
    }
   ],
   "source": [
    "# Try to find a tree where updating the root produces a sequence that takes \n",
    "# more than sqrt(n) rounds to burn\n",
    "i = 0\n",
    "while True:   \n",
    "    if i % 1000 == 0:\n",
    "        print(\"Iteration:\", i)\n",
    "    n = randint(1, 125)\n",
    "    rand_tree = nx.generators.trees.random_tree(n, seed=randint(0, 213218321321))\n",
    "    burning_sequence = burn_tree(rand_tree)\n",
    "    burning_sequence_update = burn_tree_using_centers(rand_tree, update_root=True)\n",
    "    \n",
    "    upper_bound = math.ceil(math.sqrt(rand_tree.order()))\n",
    "    if len(burning_sequence_update) > upper_bound:\n",
    "        print(\"Burning with updated root still can take > sqrt(n) rounds\")\n",
    "        print(\"Burning Sequence (no update):\", burning_sequence)\n",
    "        print(\"Burning Sequence (update root):\", burning_sequence_update)\n",
    "        pos = nx.nx_pydot.pydot_layout(rand_tree, prog='dot')\n",
    "        nx.draw(rand_tree, pos=pos, with_labels=True)\n",
    "        break\n",
    "        \n",
    "    i += 1\n",
    "        "
   ]
  },
  {
   "cell_type": "code",
   "execution_count": 13,
   "metadata": {},
   "outputs": [
    {
     "name": "stdout",
     "output_type": "stream",
     "text": [
      "Length (No Update/Update): 9/8 | n=110 | ceil(sqrt(n))= 11 | [0, 25, 54, 36, 78, 79, 77, 38, 20]\n",
      "Length (No Update/Update): 8/8 | n= 92 | ceil(sqrt(n))= 10 | [12, 10, 88, 69, 22, 86, 53, 61]\n",
      "Length (No Update/Update): 8/9 | n=121 | ceil(sqrt(n))= 11 | [49, 47, 80, 98, 33, 52, 107, 29]\n",
      "Length (No Update/Update): 9/9 | n=106 | ceil(sqrt(n))= 11 | [64, 13, 18, 30, 2, 5, 47, 90, 50]\n",
      "Length (No Update/Update): 8/8 | n= 94 | ceil(sqrt(n))= 10 | [10, 56, 9, 72, 66, 31, 58, 14]\n",
      "Length (No Update/Update): 7/7 | n= 75 | ceil(sqrt(n))=  9 | [34, 74, 72, 55, 69, 39, 17]\n",
      "Length (No Update/Update): 3/3 | n=  7 | ceil(sqrt(n))=  3 | [4, 5, 3]           \n",
      "Length (No Update/Update): 6/6 | n= 51 | ceil(sqrt(n))=  8 | [14, 5, 49, 20, 18, 45]\n",
      "Length (No Update/Update): 9/9 | n=112 | ceil(sqrt(n))= 11 | [27, 37, 94, 50, 19, 77, 73, 46, 105]\n",
      "Length (No Update/Update): 8/9 | n= 98 | ceil(sqrt(n))= 10 | [0, 25, 93, 83, 49, 29, 63, 18]\n",
      "Length (No Update/Update): 8/9 | n=107 | ceil(sqrt(n))= 11 | [2, 69, 67, 65, 90, 52, 1, 95]\n",
      "Length (No Update/Update): 8/8 | n= 96 | ceil(sqrt(n))= 10 | [0, 17, 91, 87, 75, 66, 71, 41]\n",
      "Length (No Update/Update): 5/5 | n= 21 | ceil(sqrt(n))=  5 | [0, 15, 10, 8, 12]  \n",
      "Length (No Update/Update): 2/2 | n=  4 | ceil(sqrt(n))=  2 | [3, 1]              \n",
      "Length (No Update/Update): 6/6 | n= 38 | ceil(sqrt(n))=  7 | [0, 9, 20, 10, 37, 23]\n",
      "Length (No Update/Update): 7/8 | n= 67 | ceil(sqrt(n))=  9 | [43, 46, 18, 62, 48, 13, 34]\n",
      "Length (No Update/Update): 5/6 | n= 29 | ceil(sqrt(n))=  6 | [7, 2, 1, 10, 14]   \n",
      "Length (No Update/Update): 6/7 | n= 47 | ceil(sqrt(n))=  7 | [45, 40, 25, 12, 37, 35]\n",
      "Length (No Update/Update): 9/10 | n=117 | ceil(sqrt(n))= 11 | [72, 67, 65, 31, 96, 33, 88, 36, 113]\n",
      "Length (No Update/Update): 4/4 | n= 19 | ceil(sqrt(n))=  5 | [0, 18, 13, 16]     \n",
      "Length (No Update/Update): 9/8 | n=110 | ceil(sqrt(n))= 11 | [0, 27, 5, 98, 65, 44, 82, 104, 102]\n",
      "Length (No Update/Update): 6/6 | n= 46 | ceil(sqrt(n))=  7 | [0, 19, 36, 21, 25, 13]\n",
      "Length (No Update/Update): 9/9 | n= 91 | ceil(sqrt(n))= 10 | [0, 13, 42, 73, 11, 46, 36, 66, 80]\n",
      "Length (No Update/Update): 6/7 | n= 58 | ceil(sqrt(n))=  8 | [5, 43, 24, 11, 39, 17]\n",
      "Length (No Update/Update): 2/2 | n=  4 | ceil(sqrt(n))=  2 | [0, 1]              \n"
     ]
    }
   ],
   "source": [
    "# Burn some random trees with both algorithms\n",
    "for i in range(25):\n",
    "    n = randint(1, 125)\n",
    "    rand_tree = nx.generators.trees.random_tree(n, seed=randint(0, 213218321321))\n",
    "    burning_sequence = burn_tree(rand_tree)\n",
    "    burning_sequence_update = burn_tree_using_centers(rand_tree, update_root=True)\n",
    "    print('Length (No Update/Update): {0:1d}/{1:1d} | n={2:3d} | ceil(sqrt(n))={3:3d} | {4:20}'.format(\n",
    "        len(burning_sequence),\n",
    "        len(burning_sequence_update),\n",
    "        rand_tree.order(),\n",
    "        math.ceil(math.sqrt(rand_tree.order())),\n",
    "        str(burning_sequence))\n",
    "    )\n",
    "   "
   ]
  },
  {
   "cell_type": "markdown",
   "metadata": {},
   "source": [
    "### Conclusion\n",
    "\n",
    "sometimes updating root gives a better sequence, and sometimes using fixed root gives a better sequence. Both almost always give sequences of length <= sqrt(n), but both can sometimes give longer sequences."
   ]
  },
  {
   "cell_type": "code",
   "execution_count": 14,
   "metadata": {},
   "outputs": [
    {
     "name": "stdout",
     "output_type": "stream",
     "text": [
      "Iteration: 0\n",
      "Iteration: 1000\n",
      "Iteration: 2000\n",
      "Iteration: 3000\n",
      "n=16, sqrt(n)=\n",
      "Burning Sequence (no update): [0, 6, 11, 5, 2]\n",
      "Burning Sequence (update root): [1, 8, 9, 5, 2]\n"
     ]
    },
    {
     "data": {
      "image/png": "[encoded data removed]",
      "text/plain": [
       "<matplotlib.figure.Figure at 0x1a6bc406048>"
      ]
     },
     "metadata": {},
     "output_type": "display_data"
    }
   ],
   "source": [
    "# Find a tree that takes > sqrt(n) on both algorithms?\n",
    "i = 0\n",
    "while True:   \n",
    "    if i % 1000 == 0:\n",
    "        print(\"Iteration:\", i)\n",
    "    n = randint(1, 125)\n",
    "    rand_tree = nx.generators.trees.random_tree(n, seed=randint(0, 213218321321))\n",
    "    burning_sequence = burn_tree(rand_tree)\n",
    "    burning_sequence_update = burn_tree_using_centers(rand_tree, update_root=True)\n",
    "    \n",
    "    upper_bound = math.ceil(math.sqrt(rand_tree.order()))\n",
    "    if len(burning_sequence_update) > upper_bound and len(burning_sequence) > upper_bound:\n",
    "        print(\"n={}, sqrt(n)=\".format(rand_tree.order(), math.ceil(math.sqrt(rand_tree.order()))))\n",
    "        print(\"Burning Sequence (no update):\", burning_sequence)\n",
    "        print(\"Burning Sequence (update root):\", burning_sequence_update)\n",
    "        pos = nx.nx_pydot.pydot_layout(rand_tree, prog='dot')\n",
    "        nx.draw(rand_tree, pos=pos, with_labels=True)\n",
    "        break\n",
    "        \n",
    "    i += 1"
   ]
  },
  {
   "cell_type": "markdown",
   "metadata": {},
   "source": [
    "Maybe for any given tree, there is some vertex such that if we root the tree there, the algorithm will return a burning sequence of length at most sqrt(n)?\n"
   ]
  },
  {
   "cell_type": "code",
   "execution_count": 18,
   "metadata": {},
   "outputs": [
    {
     "name": "stdout",
     "output_type": "stream",
     "text": [
      "Iteration: 0\n",
      "Iteration: 1000\n",
      "Iteration: 2000\n",
      "Iteration: 3000\n",
      "Iteration: 4000\n",
      "Iteration: 5000\n",
      "Iteration: 6000\n",
      "Iteration: 7000\n",
      "Iteration: 8000\n",
      "Iteration: 9000\n",
      "Iteration: 10000\n",
      "Iteration: 11000\n",
      "Iteration: 12000\n",
      "Iteration: 13000\n",
      "Iteration: 14000\n",
      "Iteration: 15000\n",
      "Iteration: 16000\n",
      "Iteration: 17000\n",
      "Iteration: 18000\n",
      "Iteration: 19000\n",
      "Iteration: 20000\n",
      "Iteration: 21000\n",
      "Iteration: 22000\n",
      "Iteration: 23000\n",
      "Iteration: 24000\n",
      "Iteration: 25000\n",
      "Iteration: 26000\n",
      "Iteration: 27000\n",
      "Iteration: 28000\n",
      "Iteration: 29000\n",
      "Iteration: 30000\n",
      "Iteration: 31000\n",
      "Iteration: 32000\n",
      "Iteration: 33000\n",
      "Iteration: 34000\n",
      "Iteration: 35000\n",
      "Iteration: 36000\n",
      "Iteration: 37000\n",
      "Iteration: 38000\n",
      "Iteration: 39000\n",
      "Iteration: 40000\n",
      "Iteration: 41000\n",
      "Iteration: 42000\n",
      "Iteration: 43000\n",
      "Iteration: 44000\n",
      "Iteration: 45000\n",
      "Iteration: 46000\n",
      "Iteration: 47000\n",
      "Iteration: 48000\n",
      "Iteration: 49000\n",
      "Iteration: 50000\n",
      "Iteration: 51000\n",
      "Iteration: 52000\n",
      "Iteration: 53000\n",
      "Iteration: 54000\n",
      "Iteration: 55000\n",
      "Iteration: 56000\n",
      "Iteration: 57000\n",
      "Iteration: 58000\n",
      "Iteration: 59000\n",
      "Iteration: 60000\n",
      "Iteration: 61000\n",
      "Iteration: 62000\n",
      "Iteration: 63000\n",
      "Iteration: 64000\n",
      "Iteration: 65000\n",
      "Iteration: 66000\n",
      "Iteration: 67000\n",
      "Iteration: 68000\n",
      "Iteration: 69000\n",
      "Iteration: 70000\n",
      "Iteration: 71000\n",
      "Iteration: 72000\n",
      "Iteration: 73000\n",
      "Iteration: 74000\n",
      "Iteration: 75000\n",
      "Iteration: 76000\n",
      "Iteration: 77000\n",
      "Iteration: 78000\n",
      "Iteration: 79000\n",
      "Iteration: 80000\n",
      "Iteration: 81000\n",
      "Iteration: 82000\n",
      "Iteration: 83000\n",
      "Iteration: 84000\n",
      "Iteration: 85000\n",
      "Iteration: 86000\n",
      "Iteration: 87000\n",
      "Iteration: 88000\n",
      "Iteration: 89000\n",
      "Iteration: 90000\n",
      "Iteration: 91000\n",
      "Iteration: 92000\n",
      "Iteration: 93000\n",
      "Iteration: 94000\n",
      "Iteration: 95000\n",
      "Iteration: 96000\n",
      "Iteration: 97000\n",
      "Iteration: 98000\n",
      "Iteration: 99000\n",
      "Iteration: 100000\n",
      "Iteration: 101000\n",
      "Iteration: 102000\n",
      "Iteration: 103000\n",
      "Iteration: 104000\n",
      "Iteration: 105000\n",
      "Iteration: 106000\n",
      "Iteration: 107000\n",
      "Iteration: 108000\n",
      "Iteration: 109000\n",
      "Iteration: 110000\n",
      "Iteration: 111000\n",
      "Iteration: 112000\n",
      "Iteration: 113000\n",
      "Iteration: 114000\n",
      "Iteration: 115000\n",
      "Iteration: 116000\n",
      "Iteration: 117000\n",
      "Iteration: 118000\n",
      "Iteration: 119000\n",
      "Iteration: 120000\n",
      "Iteration: 121000\n",
      "Iteration: 122000\n",
      "Iteration: 123000\n",
      "Iteration: 124000\n",
      "Iteration: 125000\n",
      "Iteration: 126000\n",
      "Iteration: 127000\n",
      "Iteration: 128000\n",
      "Iteration: 129000\n",
      "Iteration: 130000\n",
      "Iteration: 131000\n",
      "Iteration: 132000\n",
      "Iteration: 133000\n",
      "Iteration: 134000\n",
      "Iteration: 135000\n",
      "Iteration: 136000\n",
      "Iteration: 137000\n",
      "Iteration: 138000\n",
      "Iteration: 139000\n",
      "Iteration: 140000\n",
      "Iteration: 141000\n",
      "Iteration: 142000\n",
      "Iteration: 143000\n",
      "Iteration: 144000\n",
      "Iteration: 145000\n",
      "Iteration: 146000\n",
      "Iteration: 147000\n",
      "Iteration: 148000\n",
      "Iteration: 149000\n",
      "Iteration: 150000\n",
      "Iteration: 151000\n",
      "Iteration: 152000\n",
      "Iteration: 153000\n",
      "Iteration: 154000\n",
      "Iteration: 155000\n",
      "Iteration: 156000\n",
      "Found tree for which burn_tree does not give a sequence of length <= sqrt(n) for any root.\n",
      "n=16, sqrt(n)=4\n"
     ]
    },
    {
     "data": {
      "image/png": "[encoded data removed]",
      "text/plain": [
       "<matplotlib.figure.Figure at 0x1a6bded53c8>"
      ]
     },
     "metadata": {},
     "output_type": "display_data"
    }
   ],
   "source": [
    "i = 0\n",
    "while True:   \n",
    "    if i % 1000 == 0:\n",
    "        print(\"Iteration:\", i)\n",
    "    n = randint(1, 125)\n",
    "    rand_tree = nx.generators.trees.random_tree(n, seed=randint(0, 213218321321))\n",
    "    \n",
    "    satisfied = False\n",
    "    for root in range(n):\n",
    "        burning_sequence = burn_tree(rand_tree, root)\n",
    "        upper_bound = math.ceil(math.sqrt(rand_tree.order()))\n",
    "        \n",
    "        if len(burning_sequence) <= upper_bound:\n",
    "            satisfied = True\n",
    "            break\n",
    "    \n",
    "    if not satisfied:\n",
    "        print(\"Found tree for which burn_tree does not give a sequence of length <= sqrt(n) for any root.\")\n",
    "        print(\"n={}, sqrt(n)={}\".format(rand_tree.order(), math.ceil(math.sqrt(rand_tree.order()))))\n",
    "        pos = nx.nx_pydot.pydot_layout(rand_tree, prog='dot')\n",
    "        nx.draw(rand_tree, pos=pos, with_labels=True)\n",
    "        break\n",
    "        \n",
    "    i += 1"
   ]
  },
  {
   "cell_type": "code",
   "execution_count": 29,
   "metadata": {},
   "outputs": [
    {
     "name": "stdout",
     "output_type": "stream",
     "text": [
      "b(G)<= 7 | n=36 | ceil(sqrt(n))= 6\n",
      "b(G)<= 5 | n=15 | ceil(sqrt(n))= 4\n",
      "b(G)<= 7 | n=35 | ceil(sqrt(n))= 6\n",
      "b(G)<= 7 | n=36 | ceil(sqrt(n))= 6\n",
      "b(G)<= 5 | n=16 | ceil(sqrt(n))= 4\n",
      "b(G)<= 4 | n= 9 | ceil(sqrt(n))= 3\n",
      "b(G)<= 4 | n= 9 | ceil(sqrt(n))= 3\n",
      "b(G)<= 7 | n=33 | ceil(sqrt(n))= 6\n",
      "b(G)<= 6 | n=24 | ceil(sqrt(n))= 5\n",
      "b(G)<= 4 | n= 9 | ceil(sqrt(n))= 3\n",
      "b(G)<= 6 | n=25 | ceil(sqrt(n))= 5\n",
      "b(G)<= 7 | n=36 | ceil(sqrt(n))= 6\n",
      "b(G)<= 4 | n= 9 | ceil(sqrt(n))= 3\n",
      "b(G)<= 6 | n=24 | ceil(sqrt(n))= 5\n",
      "b(G)<= 6 | n=25 | ceil(sqrt(n))= 5\n",
      "b(G)<= 6 | n=25 | ceil(sqrt(n))= 5\n",
      "b(G)<= 4 | n= 9 | ceil(sqrt(n))= 3\n",
      "b(G)<= 6 | n=25 | ceil(sqrt(n))= 5\n",
      "b(G)<= 6 | n=25 | ceil(sqrt(n))= 5\n",
      "b(G)<= 5 | n=16 | ceil(sqrt(n))= 4\n",
      "b(G)<= 4 | n= 9 | ceil(sqrt(n))= 3\n",
      "b(G)<= 4 | n= 9 | ceil(sqrt(n))= 3\n",
      "b(G)<= 5 | n=16 | ceil(sqrt(n))= 4\n",
      "b(G)<= 5 | n=16 | ceil(sqrt(n))= 4\n",
      "b(G)<= 5 | n=14 | ceil(sqrt(n))= 4\n",
      "b(G)<= 7 | n=32 | ceil(sqrt(n))= 6\n",
      "b(G)<= 5 | n=15 | ceil(sqrt(n))= 4\n",
      "b(G)<= 5 | n=16 | ceil(sqrt(n))= 4\n",
      "b(G)<= 4 | n= 9 | ceil(sqrt(n))= 3\n",
      "b(G)<= 6 | n=25 | ceil(sqrt(n))= 5\n",
      "b(G)<= 5 | n=15 | ceil(sqrt(n))= 4\n",
      "b(G)<= 6 | n=23 | ceil(sqrt(n))= 5\n",
      "b(G)<= 5 | n=15 | ceil(sqrt(n))= 4\n",
      "b(G)<= 6 | n=25 | ceil(sqrt(n))= 5\n",
      "b(G)<= 4 | n= 9 | ceil(sqrt(n))= 3\n",
      "b(G)<= 4 | n= 9 | ceil(sqrt(n))= 3\n",
      "b(G)<= 6 | n=25 | ceil(sqrt(n))= 5\n",
      "b(G)<= 6 | n=25 | ceil(sqrt(n))= 5\n",
      "b(G)<= 4 | n= 9 | ceil(sqrt(n))= 3\n",
      "b(G)<= 4 | n= 9 | ceil(sqrt(n))= 3\n",
      "b(G)<= 6 | n=23 | ceil(sqrt(n))= 5\n",
      "b(G)<= 6 | n=24 | ceil(sqrt(n))= 5\n",
      "b(G)<= 4 | n= 9 | ceil(sqrt(n))= 3\n",
      "b(G)<= 8 | n=47 | ceil(sqrt(n))= 7\n",
      "b(G)<= 6 | n=24 | ceil(sqrt(n))= 5\n",
      "b(G)<= 5 | n=16 | ceil(sqrt(n))= 4\n",
      "b(G)<= 6 | n=25 | ceil(sqrt(n))= 5\n",
      "b(G)<= 7 | n=36 | ceil(sqrt(n))= 6\n",
      "b(G)<= 4 | n= 9 | ceil(sqrt(n))= 3\n",
      "b(G)<= 7 | n=36 | ceil(sqrt(n))= 6\n"
     ]
    }
   ],
   "source": [
    "found = 0\n",
    "while found < 50:   \n",
    "    n = randint(1, 125)\n",
    "    rand_tree = nx.generators.trees.random_tree(n, seed=randint(0, 213218321321))\n",
    "\n",
    "    burning_sequence = burn_tree(rand_tree, 0)\n",
    "    upper_bound = math.ceil(math.sqrt(rand_tree.order()))\n",
    "        \n",
    "    if len(burning_sequence) > upper_bound:\n",
    "        found += 1  \n",
    "        print('b(G)<={0:2d} | n={1:2d} | ceil(sqrt(n))={2:2d}'.format(len(burning_sequence),\n",
    "                                                                     rand_tree.order(),\n",
    "                                                                     math.ceil(math.sqrt(rand_tree.order()))))"
   ]
  },
  {
   "cell_type": "markdown",
   "metadata": {},
   "source": [
    "From above, seems like bound for the length of a burning sequence returned by `burn_tree` is sqrt(n) + 1."
   ]
  }
 ],
 "metadata": {
  "kernelspec": {
   "display_name": "Python 3",
   "language": "python",
   "name": "python3"
  },
  "language_info": {
   "codemirror_mode": {
    "name": "ipython",
    "version": 3
   },
   "file_extension": ".py",
   "mimetype": "text/x-python",
   "name": "python",
   "nbconvert_exporter": "python",
   "pygments_lexer": "ipython3",
   "version": "3.6.4"
  }
 },
 "nbformat": 4,
 "nbformat_minor": 2
}
