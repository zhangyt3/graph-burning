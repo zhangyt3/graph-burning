{
 "cells": [
  {
   "cell_type": "code",
   "execution_count": 14,
   "metadata": {},
   "outputs": [],
   "source": [
    "import networkx as nx"
   ]
  },
  {
   "cell_type": "code",
   "execution_count": 41,
   "metadata": {},
   "outputs": [],
   "source": [
    "def shortest_path_lengths(graph):\n",
    "    '''Returns a dictionary of dictionaries. dict[i][j] contains the distance\n",
    "    between vertices i and j.'''\n",
    "    dist_gen = nx.shortest_path_length(graph)\n",
    "\n",
    "    node_distances = {}\n",
    "    for node, distance_dict in dist_gen:\n",
    "        node_distances[node] = distance_dict\n",
    "        \n",
    "    return node_distances\n",
    "\n",
    "def find_farthest(node_distances, marked):\n",
    "    '''Find the unmarked vertex farthest from the root (assumes root is  vertex 0)'''\n",
    "    farthest = None\n",
    "    for node, dist in node_distances[0].items():\n",
    "        if node not in marked and (farthest is None or dist > node_distances[0][farthest]):\n",
    "            farthest = node\n",
    "    return farthest\n",
    "        \n",
    "\n",
    "def burn_tree(tree):\n",
    "    '''Implementation for tree burning algorithm\n",
    "    Input:  a tree to burn\n",
    "    Output: a burning sequence for the tree\n",
    "    '''\n",
    "    centers = []\n",
    "    marked = Set()\n",
    "    \n",
    "    # Calculate distance between all pairs of nodes\n",
    "    node_distances = shortest_path_length(tree)\n",
    "    \n",
    "    i = 0\n",
    "    while True:\n",
    "        # Find the unmarked vertex farthest from the root (assumes root is  vertex 0)\n",
    "        farthest = find_farthest(node_distances, marked)\n",
    "        \n",
    "        "
   ]
  },
  {
   "cell_type": "code",
   "execution_count": 42,
   "metadata": {},
   "outputs": [
    {
     "name": "stdout",
     "output_type": "stream",
     "text": [
      "[0, 1, 2, 3, 4, 5, 6, 7, 8, 9, 10, 11, 12, 13, 14, 15, 16, 17, 18, 19, 20, 21, 22, 23, 24, 25, 26, 27, 28, 29, 30, 31, 32, 33, 34, 35, 36, 37, 38, 39, 40, 41, 42, 43, 44, 45, 46, 47, 48, 49, 50, 51, 52, 53, 54, 55, 56, 57, 58, 59, 60, 61, 62]\n",
      "2\n",
      "1\n"
     ]
    }
   ],
   "source": [
    "balanced_tree = nx.balanced_tree(r=2, h=5)\n",
    "print(balanced_tree.nodes)\n",
    "print(balanced_tree.degree(0))\n",
    "print(balanced_tree.degree(62))"
   ]
  },
  {
   "cell_type": "code",
   "execution_count": 43,
   "metadata": {},
   "outputs": [
    {
     "name": "stdout",
     "output_type": "stream",
     "text": [
      "31\n",
      "1\n",
      "32\n"
     ]
    }
   ],
   "source": [
    "marked = set()\n",
    "\n",
    "dist_gen = nx.shortest_path_length(balanced_tree)\n",
    "\n",
    "node_distances = {}\n",
    "for node, distance_dict in dist_gen:\n",
    "    node_distances[node] = distance_dict\n",
    "\n",
    "print(find_farthest(node_distances, marked))\n",
    "print(balanced_tree.degree(31))\n",
    "\n",
    "# After removing vertex 31, it should find vertex 32\n",
    "balanced_tree.remove_node(31)\n",
    "dist_gen = nx.shortest_path_length(balanced_tree)\n",
    "\n",
    "node_distances = {}\n",
    "for node, distance_dict in dist_gen:\n",
    "    node_distances[node] = distance_dict\n",
    "    \n",
    "print(find_farthest(node_distances, marked))"
   ]
  },
  {
   "cell_type": "code",
   "execution_count": null,
   "metadata": {},
   "outputs": [],
   "source": []
  }
 ],
 "metadata": {
  "kernelspec": {
   "display_name": "Python 3",
   "language": "python",
   "name": "python3"
  },
  "language_info": {
   "codemirror_mode": {
    "name": "ipython",
    "version": 3
   },
   "file_extension": ".py",
   "mimetype": "text/x-python",
   "name": "python",
   "nbconvert_exporter": "python",
   "pygments_lexer": "ipython3",
   "version": "3.6.4"
  }
 },
 "nbformat": 4,
 "nbformat_minor": 2
}
