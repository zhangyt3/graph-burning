{
 "cells": [
  {
   "cell_type": "code",
   "execution_count": 1,
   "metadata": {},
   "outputs": [],
   "source": [
    "import networkx as nx"
   ]
  },
  {
   "cell_type": "code",
   "execution_count": 2,
   "metadata": {},
   "outputs": [],
   "source": [
    "def shortest_path_lengths(graph):\n",
    "    '''Returns a dictionary of dictionaries. dict[i][j] contains the distance\n",
    "    between vertices i and j.'''\n",
    "    dist_gen = nx.shortest_path_length(graph)\n",
    "\n",
    "    node_distances = {}\n",
    "    for node, distance_dict in dist_gen:\n",
    "        node_distances[node] = distance_dict\n",
    "        \n",
    "    return node_distances\n",
    "\n",
    "\n",
    "def find_farthest(node_distances, marked):\n",
    "    '''Find the unmarked vertex farthest from the root (assumes root is  vertex 0)'''\n",
    "    farthest = None\n",
    "    for node, dist in node_distances[0].items():\n",
    "        if node not in marked and (farthest is None or dist > node_distances[0][farthest]):\n",
    "            farthest = node\n",
    "    return farthest\n",
    "\n",
    "\n",
    "def get_i_ancestor(node_distances, source, i):\n",
    "    '''Return the ith ancestor of the source node.\n",
    "    In a tree, the ith ancestor of any node is the node that is at distance\n",
    "    i from it and is closer to the root.'''\n",
    "    if i == 0:\n",
    "        return source\n",
    "    \n",
    "    for node, dist in node_distances[source].items():\n",
    "        if dist == i and node_distances[0][node] < node_distances[0][source]:\n",
    "            return node\n",
    "        \n",
    "    raise RuntimeError(\"No ancestor found\")\n",
    "    \n",
    "\n",
    "def burn_tree(tree):\n",
    "    '''Implementation for tree burning algorithm (arbitrary root)\n",
    "    Input:  a tree to burn\n",
    "    Output: a burning sequence for the tree\n",
    "    '''\n",
    "    centers = []\n",
    "    marked = set()\n",
    "    \n",
    "    # Calculate distance between all pairs of nodes\n",
    "    node_distances = shortest_path_lengths(tree)\n",
    "    \n",
    "    i = 0\n",
    "    while True:\n",
    "        # Find the unmarked vertex farthest from the root (assumes root is  vertex 0)\n",
    "        farthest = find_farthest(node_distances, marked)\n",
    "        \n",
    "        if node_distances[0][farthest] >= i:\n",
    "            # Add the ith ancestor of the farthest node to centers\n",
    "            i_ancestor = get_i_ancestor(node_distances, farthest, i)\n",
    "            centers.insert(0, i_ancestor)\n",
    "        elif 0 not in centers:\n",
    "            # If there is no ith ancestor, add the root\n",
    "            centers.insert(0, 0)\n",
    "        \n",
    "        # Add all vertices within distance i of the i_ancestor to marked\n",
    "        for node in tree:\n",
    "            if node_distances[i_ancestor][node] <= i:\n",
    "                marked.add(node)\n",
    "        \n",
    "        # Stop when all vertices are marked\n",
    "        if len(marked) == tree.order():\n",
    "            break\n",
    "        \n",
    "        i += 1\n",
    "    \n",
    "    return centers\n",
    "            \n",
    "        \n",
    "        "
   ]
  },
  {
   "cell_type": "code",
   "execution_count": 3,
   "metadata": {},
   "outputs": [
    {
     "name": "stdout",
     "output_type": "stream",
     "text": [
      "[0, 1, 2, 3, 4, 5, 6, 7, 8, 9, 10, 11, 12, 13, 14, 15, 16, 17, 18, 19, 20, 21, 22, 23, 24, 25, 26, 27, 28, 29, 30, 31, 32, 33, 34, 35, 36, 37, 38, 39, 40, 41, 42, 43, 44, 45, 46, 47, 48, 49, 50, 51, 52, 53, 54, 55, 56, 57, 58, 59, 60, 61, 62]\n",
      "2\n",
      "1\n"
     ]
    }
   ],
   "source": [
    "balanced_tree = nx.balanced_tree(r=2, h=5)\n",
    "print(balanced_tree.nodes)\n",
    "print(balanced_tree.degree(0))\n",
    "print(balanced_tree.degree(62))"
   ]
  },
  {
   "cell_type": "code",
   "execution_count": 4,
   "metadata": {},
   "outputs": [
    {
     "name": "stdout",
     "output_type": "stream",
     "text": [
      "[0, 1, 3, 7, 15, 31]\n"
     ]
    }
   ],
   "source": [
    "burning_sequence = burn_tree(balanced_tree)\n",
    "print(burning_sequence)"
   ]
  },
  {
   "cell_type": "code",
   "execution_count": 5,
   "metadata": {},
   "outputs": [],
   "source": [
    "import pylab as plt\n",
    "\n",
    "nx.draw_networkx(balanced_tree, with_labels=True)"
   ]
  },
  {
   "cell_type": "code",
   "execution_count": 11,
   "metadata": {},
   "outputs": [
    {
     "data": {
      "text/plain": [
       "{0: (1188.0, 378.0),\n",
       " 1: (873.0, 306.0),\n",
       " 2: (1431.0, 306.0),\n",
       " 3: (423.0, 234.0),\n",
       " 4: (873.0, 234.0),\n",
       " 5: (1431.0, 234.0),\n",
       " 6: (1863.0, 234.0),\n",
       " 7: (207.0, 162.0),\n",
       " 8: (423.0, 162.0),\n",
       " 9: (783.0, 162.0),\n",
       " 10: (927.0, 162.0),\n",
       " 11: (1359.0, 162.0),\n",
       " 12: (1503.0, 162.0),\n",
       " 13: (1863.0, 162.0),\n",
       " 14: (2079.0, 162.0),\n",
       " 15: (99.0, 90.0),\n",
       " 16: (207.0, 90.0),\n",
       " 17: (387.0, 90.0),\n",
       " 18: (459.0, 90.0),\n",
       " 19: (675.0, 90.0),\n",
       " 20: (783.0, 90.0),\n",
       " 21: (927.0, 90.0),\n",
       " 22: (1035.0, 90.0),\n",
       " 23: (1251.0, 90.0),\n",
       " 24: (1359.0, 90.0),\n",
       " 25: (1503.0, 90.0),\n",
       " 26: (1611.0, 90.0),\n",
       " 27: (1827.0, 90.0),\n",
       " 28: (1899.0, 90.0),\n",
       " 29: (2079.0, 90.0),\n",
       " 30: (2187.0, 90.0),\n",
       " 31: (27.0, 18.0),\n",
       " 32: (99.0, 18.0),\n",
       " 33: (171.0, 18.0),\n",
       " 34: (243.0, 18.0),\n",
       " 35: (315.0, 18.0),\n",
       " 36: (387.0, 18.0),\n",
       " 37: (459.0, 18.0),\n",
       " 38: (531.0, 18.0),\n",
       " 39: (603.0, 18.0),\n",
       " 40: (675.0, 18.0),\n",
       " 41: (747.0, 18.0),\n",
       " 42: (819.0, 18.0),\n",
       " 43: (891.0, 18.0),\n",
       " 44: (963.0, 18.0),\n",
       " 45: (1035.0, 18.0),\n",
       " 46: (1107.0, 18.0),\n",
       " 47: (1179.0, 18.0),\n",
       " 48: (1251.0, 18.0),\n",
       " 49: (1323.0, 18.0),\n",
       " 50: (1395.0, 18.0),\n",
       " 51: (1467.0, 18.0),\n",
       " 52: (1539.0, 18.0),\n",
       " 53: (1611.0, 18.0),\n",
       " 54: (1683.0, 18.0),\n",
       " 55: (1755.0, 18.0),\n",
       " 56: (1827.0, 18.0),\n",
       " 57: (1899.0, 18.0),\n",
       " 58: (1971.0, 18.0),\n",
       " 59: (2043.0, 18.0),\n",
       " 60: (2115.0, 18.0),\n",
       " 61: (2187.0, 18.0),\n",
       " 62: (2259.0, 18.0)}"
      ]
     },
     "execution_count": 11,
     "metadata": {},
     "output_type": "execute_result"
    }
   ],
   "source": [
    "p_graph = nx.nx_pydot.to_pydot(balanced_tree)\n",
    "nx.nx_pydot.pydot_layout(balanced_tree, prog='dot') # Export to dot format to view nicely\n"
   ]
  },
  {
   "cell_type": "code",
   "execution_count": null,
   "metadata": {},
   "outputs": [],
   "source": []
  }
 ],
 "metadata": {
  "kernelspec": {
   "display_name": "Python 3",
   "language": "python",
   "name": "python3"
  },
  "language_info": {
   "codemirror_mode": {
    "name": "ipython",
    "version": 3
   },
   "file_extension": ".py",
   "mimetype": "text/x-python",
   "name": "python",
   "nbconvert_exporter": "python",
   "pygments_lexer": "ipython3",
   "version": "3.6.4"
  }
 },
 "nbformat": 4,
 "nbformat_minor": 2
}
