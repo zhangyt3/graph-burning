{
 "cells": [
  {
   "cell_type": "code",
   "execution_count": 3,
   "metadata": {},
   "outputs": [
    {
     "name": "stdout",
     "output_type": "stream",
     "text": [
      "Iteration  | Lower Bound (Hopefully)   | Number Actually Marked\n",
      "         0 |                         1 |                    1\n",
      "         1 |                         4 |                    4\n",
      "         2 |                         9 |                   12\n",
      "         3 |                        16 |                   21\n",
      "         4 |                        25 |                   41\n",
      "         5 |                        36 |                   66\n",
      "         6 |                        49 |                   91\n",
      "         7 |                        64 |                  104\n",
      "         8 |                        81 |                  106\n"
     ]
    }
   ],
   "source": [
    "from random import randint\n",
    "import networkx as nx\n",
    "from burn_tree import *\n",
    "import math\n",
    "\n",
    "for i in range(1):\n",
    "    n = randint(1, 150)\n",
    "    rand_tree = nx.generators.trees.random_tree(n, seed=randint(0, 213218321321))\n",
    "\n",
    "    burning_sequence, num_marked = burn_tree(rand_tree, 0)\n",
    "    upper_bound = math.ceil(math.sqrt(rand_tree.order()))\n",
    "\n",
    "    print('{0:10} | {1:25} | {2:20}'.format(\"Iteration\", \"Lower Bound (Hopefully)\", \"Number Actually Marked\"))\n",
    "    lower_bound = 0\n",
    "    actual_marked = 0\n",
    "    for i in range(len(burning_sequence)):\n",
    "        lower_bound += 2 * i + 1\n",
    "        actual_marked += num_marked[i]\n",
    "        print('{0:10d} | {1:25d} | {2:20d}'.format(i, lower_bound, actual_marked))\n",
    "        "
   ]
  },
  {
   "cell_type": "markdown",
   "metadata": {},
   "source": [
    "### Conjecture on a Lower Bound for the Number of Vertices Marked by Iteration i"
   ]
  },
  {
   "cell_type": "code",
   "execution_count": 14,
   "metadata": {},
   "outputs": [
    {
     "name": "stdout",
     "output_type": "stream",
     "text": [
      "It: 4 | Does not mark 2i - 0.5 nodes per iteration. Lower Bound: 9.5, Marked: 7\n",
      "It: 5 | Does not mark 2i - 0.5 nodes per iteration. Lower Bound: 5.5, Marked: 4\n",
      "It: 7 | Does not mark 2i - 0.5 nodes per iteration. Lower Bound: 5.5, Marked: 4\n",
      "It: 9 | Does not mark 2i - 0.5 nodes per iteration. Lower Bound: 15.5, Marked: 5\n"
     ]
    }
   ],
   "source": [
    "it = 0\n",
    "while it < 10:   \n",
    "    n = randint(1, 500)\n",
    "    rand_tree = nx.generators.trees.random_tree(n, seed=randint(0, 213218321321))\n",
    "\n",
    "    burning_sequence, num_marked = burn_tree(rand_tree, 0)\n",
    "    upper_bound = math.ceil(math.sqrt(rand_tree.order()))\n",
    "\n",
    "    #print('{0:10} | {1:25} | {2:20}'.format(\"Iteration\", \"Lower Bound (Hopefully)\", \"Number Actually Marked\"))\n",
    "    lower_bound = 0\n",
    "    actual_marked = 0\n",
    "    for i in range(len(burning_sequence)): \n",
    "        temp = i * i + 0.5 * i - 0.5\n",
    "        marked_it = 2 * i - 0.5\n",
    "        \n",
    "        lower_bound = min(temp, n)  # Last iteration might not mark enough nodes because there aren't enough left\n",
    "        lower_bound_it = min(marked_it, n - actual_marked)\n",
    "        \n",
    "        actual_marked += num_marked[i]\n",
    "        #print('{0:10d} | {1:25d} | {2:20d}'.format(i, lower_bound, actual_marked))\n",
    "        \n",
    "        if actual_marked < lower_bound:\n",
    "            print(lower_bound, actual_marked)\n",
    "            break\n",
    "        \n",
    "        if num_marked[i] < lower_bound_it:\n",
    "            print(\"It: {} | Does not mark 2i - 0.5 nodes per iteration. Lower Bound: {}, Marked: {}\".format(it, lower_bound_it, num_marked[i]))\n",
    "            break\n",
    "    \n",
    "    it += 1"
   ]
  },
  {
   "cell_type": "markdown",
   "metadata": {},
   "source": [
    "One a path, you mark 2i+1 nodes each iteration (unless you're at the last iteration, in which case you might run out of nodes to mark). This gives us a lower bound of min(n, i^2+2i+1). For a tree, 2i+1 and 2i don't work. 2i-1 is not large enough to cover n nodes after iteration i=sqrt(n). However, 2i-1/2 seems to work: no guarantee of marking 2i-1/2 nodes each iteration, but it seems like after the ith iteration, you have in total marked i^2+i/2-1/2 nodes in total (some iterations mark a lot more, some a lot less)."
   ]
  },
  {
   "cell_type": "code",
   "execution_count": 20,
   "metadata": {},
   "outputs": [
    {
     "name": "stdout",
     "output_type": "stream",
     "text": [
      "Iteration  | Lower Bound (Hopefully)   | Number Actually Marked  | Difference\n",
      "         0 |                  0.000000 |                       1 |                    1\n",
      "         1 |                  1.000000 |                       4 |                    3\n",
      "         2 |                  5.000000 |                       8 |                    3\n",
      "Iteration  | Lower Bound (Hopefully)   | Number Actually Marked  | Difference\n",
      "         0 |                  0.000000 |                       1 |                    1\n",
      "         1 |                  1.000000 |                       4 |                    3\n",
      "         2 |                  5.000000 |                       9 |                    4\n",
      "         3 |                 10.000000 |                      22 |                   12\n",
      "         4 |                 18.000000 |                      31 |                   13\n",
      "         5 |                 27.000000 |                      50 |                   23\n",
      "         6 |                 39.000000 |                      79 |                   40\n",
      "         7 |                 52.000000 |                     124 |                   72\n",
      "         8 |                 68.000000 |                     157 |                   89\n",
      "         9 |                 85.000000 |                     186 |                  101\n",
      "        10 |                105.000000 |                     282 |                  177\n",
      "        11 |                126.000000 |                     313 |                  187\n",
      "        12 |                150.000000 |                     413 |                  263\n",
      "        13 |                175.000000 |                     460 |                  285\n",
      "        14 |                203.000000 |                     478 |                  275\n",
      "        15 |                232.000000 |                     479 |                  247\n",
      "Iteration  | Lower Bound (Hopefully)   | Number Actually Marked  | Difference\n",
      "         0 |                  0.000000 |                       1 |                    1\n",
      "         1 |                  1.000000 |                       4 |                    3\n",
      "         2 |                  5.000000 |                       9 |                    4\n",
      "         3 |                 10.000000 |                      21 |                   11\n",
      "         4 |                 18.000000 |                      38 |                   20\n",
      "         5 |                 27.000000 |                      54 |                   27\n",
      "         6 |                 39.000000 |                      72 |                   33\n",
      "         7 |                 52.000000 |                     109 |                   57\n",
      "         8 |                 68.000000 |                     166 |                   98\n",
      "         9 |                 85.000000 |                     182 |                   97\n",
      "        10 |                105.000000 |                     307 |                  202\n",
      "        11 |                126.000000 |                     341 |                  215\n",
      "        12 |                150.000000 |                     377 |                  227\n",
      "        13 |                175.000000 |                     387 |                  212\n"
     ]
    }
   ],
   "source": [
    "it = 0\n",
    "while it < 3:   \n",
    "    n = randint(1, 500)\n",
    "    rand_tree = nx.generators.trees.random_tree(n, seed=randint(0, 213218321321))\n",
    "\n",
    "    burning_sequence, num_marked = burn_tree(rand_tree, 0)\n",
    "    upper_bound = math.ceil(math.sqrt(rand_tree.order()))\n",
    "\n",
    "    print('{0:10} | {1:25} | {2:23} | {3:10}'.format(\"Iteration\", \"Lower Bound (Hopefully)\", \"Number Actually Marked\", \"Difference\"))\n",
    "    lower_bound = 0\n",
    "    actual_marked = 0\n",
    "    for i in range(len(burning_sequence)): \n",
    "        temp = math.ceil(i * i + 0.5 * i - 0.5)\n",
    "        marked_it = 2 * i - 0.5\n",
    "        \n",
    "        lower_bound = min(temp, n)  # Last iteration might not mark enough nodes because there aren't enough left\n",
    "        lower_bound_it = min(marked_it, n - actual_marked)\n",
    "        \n",
    "        actual_marked += num_marked[i]\n",
    "        print('{0:10d} | {1:25f} | {2:23d} | {3:20d}'.format(i, lower_bound, actual_marked, actual_marked - lower_bound))\n",
    "        \n",
    "        if actual_marked < lower_bound:\n",
    "            print(lower_bound, actual_marked)\n",
    "            break\n",
    "        \n",
    "    \n",
    "    it += 1"
   ]
  },
  {
   "cell_type": "code",
   "execution_count": 6,
   "metadata": {},
   "outputs": [],
   "source": [
    "def get_lower_bound(i):\n",
    "    temp = math.ceil(i * i + 0.5 * i - 0.5)\n",
    "    lower_bound = min(temp, n)  # Last iteration might not mark enough nodes because there aren't enough left\n",
    "    return lower_bound"
   ]
  },
  {
   "cell_type": "code",
   "execution_count": 26,
   "metadata": {},
   "outputs": [],
   "source": [
    "file = open('lower_bound.txt', 'w')\n",
    "it = 0\n",
    "while it < 1000:   \n",
    "    n = randint(1, 500)\n",
    "    rand_tree = nx.generators.trees.random_tree(n, seed=randint(0, 213218321321))\n",
    "\n",
    "    burning_sequence, num_marked = burn_tree(rand_tree, 0)\n",
    "    upper_bound = math.ceil(math.sqrt(rand_tree.order()))\n",
    "\n",
    "    file.write('{0:10} | {1:25} | {2:23} | {3:10}\\n'.format(\"Iteration\", \"Lower Bound (Hopefully)\", \"Number Actually Marked\", \"Difference\"))\n",
    "    lower_bound = 0\n",
    "    actual_marked = 0\n",
    "    for i in range(len(burning_sequence)): \n",
    "        lower_bound = get_lower_bound(i)\n",
    "        actual_marked += num_marked[i]\n",
    "        \n",
    "        file.write('{0:10d} | {1:25f} | {2:23d} | {3:20d}\\n'.format(i, lower_bound, actual_marked, actual_marked - lower_bound))\n",
    "        \n",
    "        if actual_marked < lower_bound:\n",
    "            print(\"Lower Bound: {}, Actual # Marked: {}\".format(lower_bound, actual_marked))\n",
    "            file.write(\"Lower Bound: {}, Actual # Marked: {}\\n\".format(lower_bound, actual_marked))\n",
    "            break\n",
    "    \n",
    "    it += 1\n",
    "    \n",
    "file.close()"
   ]
  },
  {
   "cell_type": "code",
   "execution_count": null,
   "metadata": {},
   "outputs": [
    {
     "name": "stdout",
     "output_type": "stream",
     "text": [
      "Iteration 0\n",
      "Iteration 10000\n",
      "Iteration 20000\n",
      "Iteration 30000\n",
      "Iteration 40000\n",
      "Iteration 50000\n",
      "Iteration 60000\n",
      "Iteration 70000\n",
      "Iteration 80000\n",
      "Iteration 90000\n",
      "Iteration 100000\n",
      "Iteration 110000\n",
      "Iteration 120000\n",
      "Iteration 130000\n",
      "Iteration 140000\n",
      "Iteration 150000\n",
      "Iteration 160000\n",
      "Iteration 170000\n",
      "Iteration 180000\n",
      "Iteration 190000\n",
      "Iteration 200000\n",
      "Iteration 210000\n",
      "Iteration 220000\n",
      "Iteration 230000\n",
      "Iteration 240000\n",
      "Iteration 250000\n",
      "Iteration 260000\n",
      "Iteration 270000\n",
      "Iteration 280000\n",
      "Iteration 290000\n",
      "Iteration 300000\n",
      "Iteration 310000\n",
      "Iteration 320000\n",
      "Iteration 330000\n",
      "Iteration 340000\n",
      "Iteration 350000\n",
      "Iteration 360000\n",
      "Iteration 370000\n",
      "Iteration 380000\n",
      "Iteration 390000\n",
      "Iteration 400000\n",
      "Iteration 410000\n",
      "Iteration 420000\n",
      "Iteration 430000\n",
      "Iteration 440000\n",
      "Iteration 450000\n",
      "Iteration 460000\n",
      "Iteration 470000\n",
      "Iteration 480000\n",
      "Iteration 490000\n",
      "Iteration 500000\n",
      "Iteration 510000\n",
      "Iteration 520000\n",
      "Iteration 530000\n",
      "Iteration 540000\n",
      "Iteration 550000\n",
      "Iteration 560000\n",
      "Iteration 570000\n"
     ]
    }
   ],
   "source": [
    "it = 0\n",
    "while True:   \n",
    "    if it % 10000 == 0:\n",
    "        print(\"Iteration\", it)\n",
    "        \n",
    "    n = randint(1, 750)\n",
    "    rand_tree = nx.generators.trees.random_tree(n, seed=randint(0, 87))\n",
    "\n",
    "    burning_sequence, num_marked = burn_tree(rand_tree, 0)\n",
    "    upper_bound = math.ceil(math.sqrt(rand_tree.order()))\n",
    "    \n",
    "    lower_bound = 0\n",
    "    actual_marked = 0\n",
    "    for i in range(len(burning_sequence)): \n",
    "        lower_bound = get_lower_bound(i)\n",
    "        actual_marked += num_marked[i]\n",
    "        \n",
    "        if actual_marked < lower_bound:\n",
    "            print(\"Lower Bound: {}, Actual # Marked: {}\".format(lower_bound, actual_marked))\n",
    "            break\n",
    "    \n",
    "    it += 1"
   ]
  },
  {
   "cell_type": "code",
   "execution_count": null,
   "metadata": {},
   "outputs": [],
   "source": []
  },
  {
   "cell_type": "code",
   "execution_count": null,
   "metadata": {},
   "outputs": [],
   "source": []
  },
  {
   "cell_type": "code",
   "execution_count": null,
   "metadata": {},
   "outputs": [],
   "source": []
  },
  {
   "cell_type": "code",
   "execution_count": null,
   "metadata": {},
   "outputs": [],
   "source": []
  },
  {
   "cell_type": "code",
   "execution_count": null,
   "metadata": {},
   "outputs": [],
   "source": []
  },
  {
   "cell_type": "code",
   "execution_count": null,
   "metadata": {},
   "outputs": [],
   "source": []
  },
  {
   "cell_type": "code",
   "execution_count": null,
   "metadata": {},
   "outputs": [],
   "source": []
  },
  {
   "cell_type": "code",
   "execution_count": null,
   "metadata": {},
   "outputs": [],
   "source": []
  },
  {
   "cell_type": "code",
   "execution_count": null,
   "metadata": {},
   "outputs": [],
   "source": []
  },
  {
   "cell_type": "code",
   "execution_count": null,
   "metadata": {},
   "outputs": [],
   "source": []
  },
  {
   "cell_type": "code",
   "execution_count": null,
   "metadata": {},
   "outputs": [],
   "source": []
  },
  {
   "cell_type": "code",
   "execution_count": null,
   "metadata": {},
   "outputs": [],
   "source": []
  },
  {
   "cell_type": "code",
   "execution_count": null,
   "metadata": {},
   "outputs": [],
   "source": []
  }
 ],
 "metadata": {
  "kernelspec": {
   "display_name": "Environment (conda_python3)",
   "language": "python",
   "name": "conda_python3"
  },
  "language_info": {
   "codemirror_mode": {
    "name": "ipython",
    "version": 3
   },
   "file_extension": ".py",
   "mimetype": "text/x-python",
   "name": "python",
   "nbconvert_exporter": "python",
   "pygments_lexer": "ipython3",
   "version": "3.6.4"
  }
 },
 "nbformat": 4,
 "nbformat_minor": 2
}
