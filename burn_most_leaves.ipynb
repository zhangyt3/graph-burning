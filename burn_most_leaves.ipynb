{
 "cells": [
  {
   "cell_type": "code",
   "execution_count": 1,
   "metadata": {},
   "outputs": [],
   "source": [
    "import networkx as nx\n",
    "from burn_tree import *"
   ]
  },
  {
   "cell_type": "code",
   "execution_count": null,
   "metadata": {},
   "outputs": [],
   "source": [
    "def burn_most_leaves(tree):\n",
    "    activators = []\n",
    "    marked = set()\n",
    "    \n",
    "    i = 0\n",
    "    while len(marked) < tree.order():\n",
    "        # Consider all vertices v of height at most i - which N_i[v] covers the most leaves?\n",
    "        leaves = get_leaves(tree)\n",
    "        node_distances = shortest_path_lengths(tree)\n",
    "        \n",
    "        # Get all vertices within distance i of a leaf\n",
    "        near_leaves = set()\n",
    "        for leaf in leaves:\n",
    "            nhood = get_neighbourhood(tree, source=leaf, radius=i, node_distances=node_distances)\n",
    "            for node in nhood:\n",
    "                near_leaves.add(node)\n",
    "        \n",
    "        # For all v we just got: take one with max leaves in its neighbourhood\n",
    "        max_leaves = 0\n",
    "        max_node\n",
    "        for node in near_leaves:\n",
    "            nhood = get_neighbourhood(tree, source=node, radius=i, node_distances=node_distances)\n",
    "            \n",
    "            num_leaves = 0\n",
    "            for v in nhood:\n",
    "                if v in leaves:\n",
    "                    num_leaves += 1\n",
    "            \n",
    "            if num_leaves > max_leaves:\n",
    "                max_node = node\n",
    "                max_leaves = num_leaves\n",
    "            \n",
    "        # Burn that vertex\n",
    "        activators.insert(0, max_node)\n",
    "        \n",
    "        # Remove all vertices we can without disconnecting the graph\n",
    "        \n",
    "        \n",
    "    \n",
    "    \n",
    "        i += 1\n",
    "\n"
   ]
  }
 ],
 "metadata": {
  "kernelspec": {
   "display_name": "Environment (conda_python3)",
   "language": "python",
   "name": "conda_python3"
  },
  "language_info": {
   "codemirror_mode": {
    "name": "ipython",
    "version": 3
   },
   "file_extension": ".py",
   "mimetype": "text/x-python",
   "name": "python",
   "nbconvert_exporter": "python",
   "pygments_lexer": "ipython3",
   "version": "3.6.4"
  }
 },
 "nbformat": 4,
 "nbformat_minor": 2
}
