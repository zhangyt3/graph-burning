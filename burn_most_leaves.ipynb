{
 "cells": [
  {
   "cell_type": "code",
   "execution_count": 1,
   "metadata": {},
   "outputs": [],
   "source": [
    "import networkx as nx\n",
    "\n",
    "from burn_tree import *"
   ]
  },
  {
   "cell_type": "code",
   "execution_count": 23,
   "metadata": {},
   "outputs": [
    {
     "name": "stdout",
     "output_type": "stream",
     "text": [
      "[(0, {'key': 0}), (1, {'key': 1}), (2, {'key': 2}), (3, {'key': 3}), (4, {'key': 4})]\n",
      "\n",
      "Tree size 5\n",
      "Nodes: [0, 1, 2, 3, 4]\n",
      "Edges: [(0, 1), (0, 2), (0, 3), (0, 4)]\n",
      "Removing 4\n",
      "1\n",
      "\n",
      "Tree size 4\n",
      "Nodes: [0, 1, 2, 3]\n",
      "Edges: [(0, 1), (0, 2), (0, 3)]\n",
      "Removing 3\n",
      "Not removing 0\n",
      "0\n",
      "\n",
      "Tree size 3\n",
      "Nodes: [0, 1, 2]\n",
      "Edges: [(0, 1), (0, 2)]\n",
      "Removing 1\n",
      "Removing 2\n",
      "Removing 0\n",
      "0\n",
      "\n",
      "Burning sequence [{'key': 0}, {'key': 0}, {'key': 1}]\n"
     ]
    }
   ],
   "source": [
    "def burn_most_leaves(tree):\n",
    "    activators = []\n",
    "    marked = set()\n",
    "    \n",
    "    i = 0\n",
    "    while tree.order() > 0:\n",
    "        print(\"\\nTree size\", tree.order())\n",
    "        print(\"Nodes:\", tree.nodes())\n",
    "        print(\"Edges:\", tree.edges())\n",
    "        # Consider all vertices v of height at most i - which N_i[v] covers the most leaves?\n",
    "        leaves = get_leaves(tree)\n",
    "        node_distances = shortest_path_lengths(tree)\n",
    "        \n",
    "        # Get all vertices within distance i of a leaf\n",
    "        near_leaves = set()\n",
    "        for leaf in leaves:\n",
    "            nhood = get_neighbourhood(tree, source=leaf, radius=i, node_distances=node_distances)\n",
    "            for node in nhood:\n",
    "                near_leaves.add(node)\n",
    "        \n",
    "        # For all v we just got: take one with max leaves in its neighbourhood\n",
    "        max_leaves = 0\n",
    "        max_node = None\n",
    "        max_nhood = None\n",
    "        for node in near_leaves:\n",
    "            nhood = get_neighbourhood(tree, source=node, radius=i, node_distances=node_distances)\n",
    "            \n",
    "            num_leaves = 0\n",
    "            for v in nhood:\n",
    "                if v in leaves:\n",
    "                    num_leaves += 1\n",
    "            \n",
    "            if num_leaves > max_leaves:\n",
    "                max_node = node\n",
    "                max_nhood = nhood\n",
    "                max_leaves = num_leaves\n",
    "            \n",
    "        # Burn that vertex\n",
    "        activators.insert(0, tree.nodes(data=True)[max_node])\n",
    "        \n",
    "        # Remove all vertices we can without disconnecting the graph\n",
    "        eccens = nx.algorithms.distance_measures.eccentricity(tree)\n",
    "        sorted_eccens = sorted(eccens.items(), key=lambda kv: kv[1], reverse=True)\n",
    "        for node, eccen in sorted_eccens:\n",
    "            # Only remove nodes within the appropriate neighbourhood\n",
    "            if node in nhood:\n",
    "                temp = tree.copy()\n",
    "                temp.remove_node(node)\n",
    "                \n",
    "                # Only remove if the the tree does not become disconnected\n",
    "                if temp.order() == 0 or nx.algorithms.components.is_connected(temp):\n",
    "                    print(\"Removing\", node)\n",
    "                    tree = temp\n",
    "                else:\n",
    "                    print(\"Not removing\", node)\n",
    "        \n",
    "        print(max_node)\n",
    "        i += 1\n",
    "    \n",
    "    return activators\n",
    "\n",
    "tree = nx.Graph()\n",
    "for i in range(5):\n",
    "    tree.add_node(i, key=i)\n",
    "edges = [(0, 1), (0, 2), (0, 3), (0, 4)]\n",
    "tree.add_edges_from(edges)\n",
    "print(list(tree.nodes(data=True)))\n",
    "\n",
    "bs = burn_most_leaves(tree)\n",
    "print(\"\\nBurning sequence\", bs)"
   ]
  },
  {
   "cell_type": "code",
   "execution_count": null,
   "metadata": {},
   "outputs": [],
   "source": []
  },
  {
   "cell_type": "code",
   "execution_count": null,
   "metadata": {},
   "outputs": [],
   "source": []
  }
 ],
 "metadata": {
  "kernelspec": {
   "display_name": "Environment (conda_python3)",
   "language": "python",
   "name": "conda_python3"
  },
  "language_info": {
   "codemirror_mode": {
    "name": "ipython",
    "version": 3
   },
   "file_extension": ".py",
   "mimetype": "text/x-python",
   "name": "python",
   "nbconvert_exporter": "python",
   "pygments_lexer": "ipython3",
   "version": "3.6.4"
  }
 },
 "nbformat": 4,
 "nbformat_minor": 2
}
