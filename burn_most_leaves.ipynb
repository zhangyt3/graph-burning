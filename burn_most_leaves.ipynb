{
 "cells": [
  {
   "cell_type": "code",
   "execution_count": 1,
   "metadata": {},
   "outputs": [],
   "source": [
    "import networkx as nx\n",
    "from burn_tree import *"
   ]
  },
  {
   "cell_type": "code",
   "execution_count": null,
   "metadata": {},
   "outputs": [],
   "source": [
    "def burn_most_leaves(tree):\n",
    "    activators = []\n",
    "    marked = set()\n",
    "    \n",
    "    # Calculate distance between all pairs of nodes\n",
    "    node_distances = shortest_path_lengths(tree)\n",
    "    \n",
    "    i = 0\n",
    "    while len(marked) < tree.order():\n",
    "        # Consider all vertices v of height i - which N_i[v] covers the most leaves?\n",
    "        degrees = nx.classes.function.degree(tree)\n",
    "        leaves = []\n",
    "        \n",
    "        for node, deg in degrees:\n",
    "            if deg == 1:\n",
    "                leaves.add(node)\n",
    "        \n",
    "        \n",
    "    \n",
    "    \n",
    "        i += 1\n",
    "\n"
   ]
  }
 ],
 "metadata": {
  "kernelspec": {
   "display_name": "Environment (conda_python3)",
   "language": "python",
   "name": "conda_python3"
  },
  "language_info": {
   "codemirror_mode": {
    "name": "ipython",
    "version": 3
   },
   "file_extension": ".py",
   "mimetype": "text/x-python",
   "name": "python",
   "nbconvert_exporter": "python",
   "pygments_lexer": "ipython3",
   "version": "3.6.4"
  }
 },
 "nbformat": 4,
 "nbformat_minor": 2
}
